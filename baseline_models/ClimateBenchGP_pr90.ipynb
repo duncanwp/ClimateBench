{
 "cells": [
  {
   "cell_type": "code",
   "execution_count": null,
   "metadata": {
    "pycharm": {
     "name": "#%%\n"
    }
   },
   "outputs": [],
   "source": [
    "import os\n",
    "import numpy as np\n",
    "import pandas as pd\n",
    "import xarray as xr\n",
    "import matplotlib.pyplot as plt\n",
    "from matplotlib import colors\n",
    "from eofs.xarray import Eof\n",
    "import tensorflow as tf\n",
    "import gpflow\n",
    "import seaborn as sns\n",
    "import cartopy.crs as ccrs\n",
    "from utils import *"
   ]
  },
  {
   "cell_type": "markdown",
   "metadata": {
    "pycharm": {
     "name": "#%% md\n"
    }
   },
   "source": [
    "### Prepare data"
   ]
  },
  {
   "cell_type": "code",
   "execution_count": null,
   "metadata": {
    "pycharm": {
     "name": "#%%\n"
    }
   },
   "outputs": [],
   "source": [
    "# List of dataset to use for training\n",
    "train_files = [\"ssp126\", \"ssp370\", \"ssp585\", \"historical\", \"hist-GHG\", \"hist-aer\"]"
   ]
  },
  {
   "cell_type": "code",
   "execution_count": null,
   "metadata": {
    "pycharm": {
     "name": "#%%\n"
    }
   },
   "outputs": [],
   "source": [
    "# Create training and testing arrays\n",
    "X_train, eof_solvers = create_predictor_data(train_files)\n",
    "y_train_pr90 = create_predictdand_data(train_files)['pr90'].values.reshape(-1, 96 * 144)\n",
    "\n",
    "X_test = get_test_data('ssp245', eof_solvers)\n",
    "Y_test = xr.open_dataset(data_path + 'outputs_ssp245.nc').compute()\n",
    "pr_truth = 86400 * Y_test[\"pr90\"].mean('member')"
   ]
  },
  {
   "cell_type": "code",
   "execution_count": null,
   "metadata": {
    "pycharm": {
     "name": "#%%\n"
    }
   },
   "outputs": [],
   "source": [
    "# Drop rows including nans\n",
    "nan_train_mask = X_train.isna().any(axis=1).values\n",
    "X_train = X_train.dropna(axis=0, how='any')\n",
    "y_train_pr90 = y_train_pr90[~nan_train_mask]\n",
    "assert len(X_train) == len(y_train_pr90)\n",
    "\n",
    "nan_test_mask = X_test.isna().any(axis=1).values\n",
    "X_test = X_test.dropna(axis=0, how='any')\n",
    "pr90_truth = pr90_truth[~nan_test_mask]"
   ]
  },
  {
   "cell_type": "code",
   "execution_count": null,
   "metadata": {
    "pycharm": {
     "name": "#%%\n"
    }
   },
   "outputs": [],
   "source": [
    "# Standardize predictor fields requiring standardization (non-EOFs)\n",
    "train_CO2_mean, train_CO2_std = X_train['CO2'].mean(), X_train['CO2'].std()\n",
    "train_CH4_mean, train_CH4_std = X_train['CH4'].mean(), X_train['CH4'].std()\n",
    "\n",
    "X_train.CO2 = (X_train.CO2 - train_CO2_mean) / train_CO2_std\n",
    "X_train.CH4 = (X_train.CH4 - train_CH4_mean) / train_CH4_std\n",
    "\n",
    "X_test.CO2 = (X_test.CO2 - train_CO2_mean) / train_CO2_std\n",
    "X_test.CH4 = (X_test.CH4 - train_CH4_mean) / train_CH4_std"
   ]
  },
  {
   "cell_type": "code",
   "execution_count": null,
   "metadata": {
    "pycharm": {
     "name": "#%%\n"
    }
   },
   "outputs": [],
   "source": [
    "# Standardize predictand fields\n",
    "train_pr90_mean, train_pr90_std = y_train_pr90.mean(), y_train_pr90.std()\n",
    "y_train_pr90 = (y_train_pr90 - train_pr90_mean) / train_pr90_std"
   ]
  },
  {
   "cell_type": "markdown",
   "metadata": {
    "pycharm": {
     "name": "#%% md\n"
    }
   },
   "source": [
    "### Prepare model"
   ]
  },
  {
   "cell_type": "code",
   "execution_count": null,
   "metadata": {
    "pycharm": {
     "name": "#%%\n"
    }
   },
   "outputs": [],
   "source": [
    "# Make kernel\n",
    "kernel_CO2 = gpflow.kernels.Matern32(active_dims=[0])\n",
    "kernel_CH4 = gpflow.kernels.Matern32(active_dims=[1])\n",
    "\n",
    "kernel_BC = gpflow.kernels.Matern32(lengthscales=5 * [1.], active_dims=[2, 3, 4, 5, 6])\n",
    "kernel_SO2 = gpflow.kernels.Matern32(lengthscales=5 * [1.], active_dims=[7, 8, 9, 10, 11])\n",
    "\n",
    "kernel = kernel_CO2 + kernel_CH4 + kernel_BC + kernel_SO2"
   ]
  },
  {
   "cell_type": "code",
   "execution_count": null,
   "metadata": {
    "pycharm": {
     "name": "#%%\n"
    }
   },
   "outputs": [],
   "source": [
    "# Make model\n",
    "np.random.seed(5)\n",
    "mean = gpflow.mean_functions.Constant()\n",
    "model = gpflow.models.GPR(data=(X_train.astype(np.float64), \n",
    "                                y_train_pr90.astype(np.float64)),\n",
    "                                kernel=kernel,\n",
    "                                mean_function=mean)"
   ]
  },
  {
   "cell_type": "code",
   "execution_count": null,
   "metadata": {
    "pycharm": {
     "name": "#%%\n"
    }
   },
   "outputs": [],
   "source": [
    "# Define optimizer\n",
    "opt = gpflow.optimizers.Scipy()\n",
    "\n",
    "# Train model\n",
    "opt.minimize(model.training_loss,\n",
    "             variables=model.trainable_variables,\n",
    "             options=dict(disp=True, maxiter=35))"
   ]
  },
  {
   "cell_type": "markdown",
   "metadata": {
    "pycharm": {
     "name": "#%% md\n"
    }
   },
   "source": [
    "### Predict on testing set"
   ]
  },
  {
   "cell_type": "code",
   "execution_count": null,
   "metadata": {
    "pycharm": {
     "name": "#%%\n"
    }
   },
   "outputs": [],
   "source": [
    "# predict\n",
    "standard_posterior_mean, standard_posterior_var = model.predict_y(X_test.values)\n",
    "posterior_mean = standard_posterior_mean * train_pr90_std + train_pr90_mean\n",
    "posterior_std = np.sqrt(standard_posterior_var) * train_pr90_std"
   ]
  },
  {
   "cell_type": "code",
   "execution_count": null,
   "metadata": {
    "pycharm": {
     "name": "#%%\n"
    }
   },
   "outputs": [],
   "source": [
    "# put output back into xarray format for calculating RMSE/plotting\n",
    "posterior_pr90 = np.reshape(posterior_mean, [86, 96, 144])\n",
    "posterior_pr90_std = np.reshape(posterior_std, [86, 96, 144])\n",
    "posterior_pr90_data = xr.DataArray(posterior_pr90, dims=pr90_truth.dims, coords=pr90_truth.coords)\n",
    "posterior_pr90_std_data = xr.DataArray(posterior_pr90_std, dims=pr90_truth.dims, coords=pr90_truth.coords)"
   ]
  },
  {
   "cell_type": "code",
   "execution_count": null,
   "metadata": {
    "pycharm": {
     "name": "#%%\n"
    },
    "scrolled": true
   },
   "outputs": [],
   "source": [
    "# Compute RMSEs\n",
    "print(f\"RMSE at 2050: {get_rmse(pr90_truth[35], posterior_pr90_data[35])}\")\n",
    "print(f\"RMSE at 2100: {get_rmse(pr90_truth[85], posterior_pr90_data[85])}\")\n",
    "print(f\"RMSE 2045-2055: {get_rmse(pr90_truth[30:41], posterior_pr90_data[30:41]).mean()}\")\n",
    "print(f\"RMSE 2090-2100: {get_rmse(pr90_truth[75:], posterior_pr90_data[75:]).mean()}\")\n",
    "print(f\"RMSE 2050-2100: {get_rmse(pr90_truth[35:], posterior_pr90_data[35:]).mean()}\")\n",
    "\n",
    "# RMSE for average field over last 20 years\n",
    "print(f\"RMSE average last 20y: {get_rmse(pr90_truth[-20:].mean(dim='time'), posterior_pr90_data[-20:].mean(dim='time'))}\")"
   ]
  },
  {
   "cell_type": "code",
   "execution_count": null,
   "metadata": {
    "pycharm": {
     "name": "#%%\n"
    }
   },
   "outputs": [],
   "source": [
    "# plotting predictions\n",
    "divnorm = colors.TwoSlopeNorm(vmin=-2., vcenter=0., vmax=5)\n",
    "diffnorm = colors.TwoSlopeNorm(vmin=-2., vcenter=0., vmax=2)\n",
    "\n",
    "## Temperature\n",
    "proj = ccrs.PlateCarree()\n",
    "fig = plt.figure(figsize=(18, 3))\n",
    "fig.suptitle('Extreme Precipitation')\n",
    "\n",
    "# Test\n",
    "plt.subplot(131, projection=proj)\n",
    "pr90_truth.sel(time=slice(2050,None)).mean('time').plot(cmap=\"coolwarm\", vmin=-2,\n",
    "                              cbar_kwargs={\"label\":\"P90 change / mm day-1 \"})\n",
    "plt.gca().coastlines()\n",
    "plt.setp(plt.gca(), title='True')\n",
    "\n",
    "# Emulator\n",
    "plt.subplot(132, projection=proj)\n",
    "posterior_pr90_data.sel(time=slice(2050,None)).mean('time').plot(cmap=\"coolwarm\", vmin=-2,\n",
    "                              cbar_kwargs={\"label\":\"P90 change / mm day-1 \"})\n",
    "plt.gca().coastlines()\n",
    "plt.setp(plt.gca(), title='GP posterior mean')\n",
    "\n",
    "# Difference\n",
    "difference = pr90_truth - posterior_pr90_data\n",
    "plt.subplot(133, projection=proj)\n",
    "difference.sel(time=slice(2050,None)).mean('time').plot(cmap=\"bwr\", norm=diffnorm,\n",
    "                cbar_kwargs={\"label\":\"P90 change / mm day-1 \"})\n",
    "plt.gca().coastlines()\n",
    "plt.setp(plt.gca(), title='Difference')"
   ]
  },
  {
   "cell_type": "markdown",
   "metadata": {
    "pycharm": {
     "name": "#%% md\n"
    }
   },
   "source": [
    "__Feature importance__\n",
    "- CO2 (0.48)\n",
    "- SO2 (1.20)\n",
    "- Significant internal variability (0.46)"
   ]
  },
  {
   "cell_type": "code",
   "execution_count": null,
   "metadata": {
    "pycharm": {
     "name": "#%%\n"
    }
   },
   "outputs": [],
   "source": [
    "model"
   ]
  },
  {
   "cell_type": "code",
   "execution_count": null,
   "metadata": {
    "pycharm": {
     "name": "#%%\n"
    }
   },
   "outputs": [],
   "source": [
    "# Save predictions\n",
    "posterior_pr90_data.to_netcdf('climatebench-gp-posterior-mean-pr90-test-2019-2100.nc')\n",
    "posterior_pr90_std_data.to_netcdf('climatebench-gp-posterior-std-pr90-test-2019-2100.nc')"
   ]
  }
 ],
 "metadata": {
  "kernelspec": {
   "display_name": "Python [conda env:climatebench]",
   "language": "python",
   "name": "conda-env-climatebench-py"
  },
  "language_info": {
   "codemirror_mode": {
    "name": "ipython",
    "version": 3
   },
   "file_extension": ".py",
   "mimetype": "text/x-python",
   "name": "python",
   "nbconvert_exporter": "python",
   "pygments_lexer": "ipython3",
   "version": "3.9.13"
  }
 },
 "nbformat": 4,
 "nbformat_minor": 4
}
