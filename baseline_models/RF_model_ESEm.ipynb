{
 "cells": [
  {
   "cell_type": "code",
   "execution_count": 1,
   "metadata": {},
   "outputs": [
    {
     "name": "stderr",
     "output_type": "stream",
     "text": [
      "C:\\Users\\duncan\\miniconda3\\envs\\climatebench\\lib\\site-packages\\numpy\\_distributor_init.py:30: UserWarning: loaded more than 1 DLL from .libs:\n",
      "C:\\Users\\duncan\\miniconda3\\envs\\climatebench\\lib\\site-packages\\numpy\\.libs\\libopenblas.4SP5SUA7CBGXUEOC35YP2ASOICYYEQZZ.gfortran-win_amd64.dll\n",
      "C:\\Users\\duncan\\miniconda3\\envs\\climatebench\\lib\\site-packages\\numpy\\.libs\\libopenblas.WCDJNK7YVMPZQ2ME2ZZHJJRJ3JIKNDB7.gfortran-win_amd64.dll\n",
      "  warnings.warn(\"loaded more than 1 DLL from .libs:\"\n",
      "C:\\Users\\duncan\\miniconda3\\envs\\climatebench\\lib\\site-packages\\h5py\\__init__.py:36: UserWarning: h5py is running against HDF5 1.12.1 when it was built against 1.12.0, this may cause problems\n",
      "  _warn((\"h5py is running against HDF5 {0} when it was built against {1}, \"\n"
     ]
    }
   ],
   "source": [
    "import os\n",
    "\n",
    "os.environ['HDF5_DISABLE_VERSION_CHECK'] = \"1\"\n",
    "\n",
    "import datetime as dt \n",
    "import numpy as np\n",
    "import pandas as pd\n",
    "import matplotlib.pyplot as plt\n",
    "import netCDF4 as nc\n",
    "import xarray as xr\n",
    "\n",
    "from sklearn import metrics\n",
    "\n",
    "from eofs.xarray import Eof\n",
    "from esem import rf_model\n",
    "\n",
    "from utils import *"
   ]
  },
  {
   "cell_type": "code",
   "execution_count": 2,
   "metadata": {},
   "outputs": [],
   "source": [
    "# path to save the netcdf file\n",
    "path_output ='outputs_ssp245_prediction_ESEm.nc'\n"
   ]
  },
  {
   "cell_type": "code",
   "execution_count": 3,
   "metadata": {},
   "outputs": [],
   "source": [
    "train_files = [ \"historical\", \"ssp585\", \"ssp126\", \"ssp370\", ]\n",
    "# Create training and testing arrays\n",
    "X, solvers = create_predictor_data(train_files)\n",
    "Y = create_predictdand_data(train_files)\n",
    "\n"
   ]
  },
  {
   "cell_type": "code",
   "execution_count": 4,
   "metadata": {},
   "outputs": [],
   "source": [
    "\n",
    "rf_tas = rf_model(X, Y['tas'], random_state=0, bootstrap=True, max_features='auto', **{'n_estimators': 200, 'min_samples_split': 10, 'min_samples_leaf': 4,  'max_depth': 30,})\n",
    "rf_pr = rf_model(X, Y['pr'], random_state=0, bootstrap=True, max_features='auto', **{'n_estimators': 250, 'min_samples_split': 15, 'min_samples_leaf': 4,'max_depth': 45,})\n",
    "rf_pr90 = rf_model(X, Y['pr90'], random_state=0, bootstrap=True, max_features='auto',**{'n_estimators': 250, 'min_samples_split': 25, 'min_samples_leaf': 8,'max_depth': 55,})\n",
    "rf_dtr = rf_model(X, Y[\"diurnal_temperature_range\"], random_state=0, bootstrap=True, max_features='auto',**{'n_estimators': 300, 'min_samples_split': 25, 'min_samples_leaf': 12, 'max_depth': 85,})\n",
    "\n",
    "rf_tas.train()\n",
    "rf_pr.train()\n",
    "rf_pr90.train()\n",
    "rf_dtr.train()\n"
   ]
  },
  {
   "cell_type": "code",
   "execution_count": 5,
   "metadata": {},
   "outputs": [],
   "source": [
    "## Test on SSP245\n",
    "\n",
    "X_test = get_test_data('ssp245', solvers)\n",
    "Y_test = create_predictdand_data(['ssp245'])\n",
    "\n",
    "tas_truth = Y_test[\"tas\"]\n",
    "pr_truth = Y_test[\"pr\"]\n",
    "pr90_truth = Y_test[\"pr90\"]\n",
    "dtr_truth = Y_test[\"diurnal_temperature_range\"]\n"
   ]
  },
  {
   "cell_type": "code",
   "execution_count": 6,
   "metadata": {},
   "outputs": [],
   "source": [
    "m_out_tas, _ = rf_tas.predict(X_test)\n",
    "m_out_pr, _ = rf_pr.predict(X_test)\n",
    "m_out_pr90, _ = rf_pr90.predict(X_test)\n",
    "m_out_dtr, _ = rf_dtr.predict(X_test)\n"
   ]
  },
  {
   "cell_type": "code",
   "execution_count": 7,
   "metadata": {},
   "outputs": [],
   "source": [
    "\n",
    "xr_output = xr.Dataset(dict(tas=m_out_tas, pr=m_out_pr, pr90=m_out_pr90, diurnal_temperature_range=m_out_dtr)).assign_coords(time=m_out_tas.sample + 2014)\n",
    "#save output to netcdf \n",
    "xr_output.to_netcdf(path_output,'w')"
   ]
  },
  {
   "cell_type": "code",
   "execution_count": 8,
   "metadata": {},
   "outputs": [
    {
     "name": "stdout",
     "output_type": "stream",
     "text": [
      "RMSE: 0.3187062875001468\n",
      "RMSE: 0.4239106654993385\n",
      "RMSE: 0.36763517242665467\n",
      "RMSE: 0.43472141618566296\n",
      "RMSE: 0.5767078194454791\n",
      "\n",
      "\n",
      "RMSE: 0.13426579988568232\n",
      "RMSE: 0.1433812124226413\n",
      "RMSE: 0.13790411861197352\n",
      "RMSE: 0.16467887901091566\n",
      "RMSE: 0.1581481860130057\n",
      "\n",
      "\n",
      "RMSE: 0.40785239217243024\n",
      "RMSE: 0.5858767450692921\n",
      "RMSE: 0.5035112304396208\n",
      "RMSE: 0.5273833967195999\n",
      "RMSE: 0.5379752597855401\n",
      "\n",
      "\n",
      "RMSE: 1.318967921141969\n",
      "RMSE: 1.7094038475970195\n",
      "RMSE: 1.491382925157589\n",
      "RMSE: 1.5255803034965294\n",
      "RMSE: 1.5498856840737842\n"
     ]
    }
   ],
   "source": [
    "print(f\"RMSE: {get_rmse(tas_truth[35:], m_out_tas[35:]).mean()}\")\n",
    "print(\"\\n\")\n",
    "\n",
    "print(f\"RMSE: {get_rmse(dtr_truth[35:], m_out_dtr[35:]).mean()}\")\n",
    "print(\"\\n\")\n",
    "\n",
    "print(f\"RMSE: {get_rmse(pr_truth[35:], m_out_pr[35:]).mean()}\")\n",
    "print(\"\\n\")\n",
    "\n",
    "print(f\"RMSE: {get_rmse(pr90_truth[35:], m_out_pr90[35:]).mean()}\")"
   ]
  },
  {
   "cell_type": "code",
   "execution_count": 12,
   "metadata": {},
   "outputs": [],
   "source": [
    "from sklearn.inspection import permutation_importance\n",
    "from sklearn.metrics import make_scorer, check_scoring, mean_squared_error\n",
    "\n",
    "def get_rmse_array(truth, pred):\n",
    "    print(truth.shape, pred.shape)\n",
    "    weights = np.cos(np.deg2rad(truth.lat))\n",
    "\n",
    "    return np.sqrt(((truth - pred.reshape(-1, 96,144))**2).weighted(weights).mean(['lat', 'lon'])).data.mean()\n"
   ]
  },
  {
   "cell_type": "code",
   "execution_count": 13,
   "metadata": {
    "tags": []
   },
   "outputs": [
    {
     "name": "stdout",
     "output_type": "stream",
     "text": [
      "(51, 96, 144) (51, 13824)\n",
      "(51, 96, 144) (51, 13824)\n",
      "(51, 96, 144) (51, 13824)\n",
      "(51, 96, 144) (51, 13824)\n",
      "(51, 96, 144) (51, 13824)\n",
      "(51, 96, 144) (51, 13824)\n",
      "(51, 96, 144) (51, 13824)\n",
      "(51, 96, 144) (51, 13824)\n",
      "(51, 96, 144) (51, 13824)\n",
      "(51, 96, 144) (51, 13824)\n",
      "(51, 96, 144) (51, 13824)\n",
      "(51, 96, 144) (51, 13824)\n",
      "(51, 96, 144) (51, 13824)\n",
      "(51, 96, 144) (51, 13824)\n",
      "(51, 96, 144) (51, 13824)\n",
      "(51, 96, 144) (51, 13824)\n",
      "(51, 96, 144) (51, 13824)\n",
      "(51, 96, 144) (51, 13824)\n",
      "(51, 96, 144) (51, 13824)\n",
      "(51, 96, 144) (51, 13824)\n",
      "(51, 96, 144) (51, 13824)\n",
      "(51, 96, 144) (51, 13824)\n",
      "(51, 96, 144) (51, 13824)\n",
      "(51, 96, 144) (51, 13824)\n",
      "(51, 96, 144) (51, 13824)\n",
      "(51, 96, 144) (51, 13824)\n",
      "(51, 96, 144) (51, 13824)\n",
      "(51, 96, 144) (51, 13824)\n",
      "(51, 96, 144) (51, 13824)\n",
      "(51, 96, 144) (51, 13824)\n",
      "(51, 96, 144) (51, 13824)\n",
      "(51, 96, 144) (51, 13824)\n",
      "(51, 96, 144) (51, 13824)\n",
      "(51, 96, 144) (51, 13824)\n",
      "(51, 96, 144) (51, 13824)\n",
      "(51, 96, 144) (51, 13824)\n",
      "(51, 96, 144) (51, 13824)\n",
      "(51, 96, 144) (51, 13824)\n",
      "(51, 96, 144) (51, 13824)\n",
      "(51, 96, 144) (51, 13824)\n",
      "(51, 96, 144) (51, 13824)\n",
      "(51, 96, 144) (51, 13824)\n",
      "(51, 96, 144) (51, 13824)\n",
      "(51, 96, 144) (51, 13824)\n",
      "(51, 96, 144) (51, 13824)\n",
      "(51, 96, 144) (51, 13824)\n",
      "(51, 96, 144) (51, 13824)\n",
      "(51, 96, 144) (51, 13824)\n",
      "(51, 96, 144) (51, 13824)\n",
      "(51, 96, 144) (51, 13824)\n",
      "(51, 96, 144) (51, 13824)\n",
      "(51, 96, 144) (51, 13824)\n",
      "(51, 96, 144) (51, 13824)\n",
      "(51, 96, 144) (51, 13824)\n",
      "(51, 96, 144) (51, 13824)\n",
      "(51, 96, 144) (51, 13824)\n",
      "(51, 96, 144) (51, 13824)\n",
      "(51, 96, 144) (51, 13824)\n",
      "(51, 96, 144) (51, 13824)\n",
      "(51, 96, 144) (51, 13824)\n",
      "(51, 96, 144) (51, 13824)\n",
      "(51, 96, 144) (51, 13824)\n",
      "(51, 96, 144) (51, 13824)\n",
      "(51, 96, 144) (51, 13824)\n",
      "(51, 96, 144) (51, 13824)\n",
      "(51, 96, 144) (51, 13824)\n",
      "(51, 96, 144) (51, 13824)\n",
      "(51, 96, 144) (51, 13824)\n",
      "(51, 96, 144) (51, 13824)\n",
      "(51, 96, 144) (51, 13824)\n",
      "(51, 96, 144) (51, 13824)\n",
      "(51, 96, 144) (51, 13824)\n",
      "(51, 96, 144) (51, 13824)\n",
      "(51, 96, 144) (51, 13824)\n",
      "(51, 96, 144) (51, 13824)\n",
      "(51, 96, 144) (51, 13824)\n",
      "(51, 96, 144) (51, 13824)\n",
      "(51, 96, 144) (51, 13824)\n",
      "(51, 96, 144) (51, 13824)\n",
      "(51, 96, 144) (51, 13824)\n",
      "(51, 96, 144) (51, 13824)\n",
      "(51, 96, 144) (51, 13824)\n",
      "(51, 96, 144) (51, 13824)\n",
      "(51, 96, 144) (51, 13824)\n",
      "(51, 96, 144) (51, 13824)\n",
      "(51, 96, 144) (51, 13824)\n",
      "(51, 96, 144) (51, 13824)\n",
      "(51, 96, 144) (51, 13824)\n",
      "(51, 96, 144) (51, 13824)\n",
      "(51, 96, 144) (51, 13824)\n",
      "(51, 96, 144) (51, 13824)\n",
      "(51, 96, 144) (51, 13824)\n",
      "(51, 96, 144) (51, 13824)\n",
      "(51, 96, 144) (51, 13824)\n",
      "(51, 96, 144) (51, 13824)\n",
      "(51, 96, 144) (51, 13824)\n",
      "(51, 96, 144) (51, 13824)\n",
      "(51, 96, 144) (51, 13824)\n",
      "(51, 96, 144) (51, 13824)\n",
      "(51, 96, 144) (51, 13824)\n",
      "(51, 96, 144) (51, 13824)\n",
      "(51, 96, 144) (51, 13824)\n",
      "(51, 96, 144) (51, 13824)\n",
      "(51, 96, 144) (51, 13824)\n",
      "(51, 96, 144) (51, 13824)\n",
      "(51, 96, 144) (51, 13824)\n",
      "(51, 96, 144) (51, 13824)\n",
      "(51, 96, 144) (51, 13824)\n",
      "(51, 96, 144) (51, 13824)\n",
      "(51, 96, 144) (51, 13824)\n",
      "(51, 96, 144) (51, 13824)\n",
      "(51, 96, 144) (51, 13824)\n",
      "(51, 96, 144) (51, 13824)\n",
      "(51, 96, 144) (51, 13824)\n",
      "(51, 96, 144) (51, 13824)\n",
      "(51, 96, 144) (51, 13824)\n",
      "(51, 96, 144) (51, 13824)\n",
      "(51, 96, 144) (51, 13824)\n",
      "(51, 96, 144) (51, 13824)\n",
      "(51, 96, 144) (51, 13824)\n",
      "(51, 96, 144) (51, 13824)\n",
      "Wall time: 1min 56s\n"
     ]
    }
   ],
   "source": [
    "%%time\n",
    "pr_result = permutation_importance(\n",
    "    rf_pr.model.model, X_test[35:], pr_truth.sel(time=slice(2050,None)), n_repeats=10, random_state=42, n_jobs=1, scoring=make_scorer(get_rmse_array))\n"
   ]
  },
  {
   "cell_type": "code",
   "execution_count": 14,
   "metadata": {},
   "outputs": [],
   "source": [
    "importances = rf_pr.model.model.feature_importances_"
   ]
  },
  {
   "cell_type": "code",
   "execution_count": 15,
   "metadata": {},
   "outputs": [],
   "source": [
    "feature_names = list(X.columns)"
   ]
  },
  {
   "cell_type": "code",
   "execution_count": 16,
   "metadata": {},
   "outputs": [
    {
     "data": {
      "image/png": "[encoded data removed]",
      "text/plain": [
       "<Figure size 432x288 with 1 Axes>"
      ]
     },
     "metadata": {
      "needs_background": "light"
     },
     "output_type": "display_data"
    }
   ],
   "source": [
    "std = np.std([tree.feature_importances_ for tree in rf_pr.model.model.estimators_], axis=0)\n",
    "\n",
    "forest_importances = pd.Series(importances, index=feature_names)\n",
    "\n",
    "fig, ax = plt.subplots()\n",
    "forest_importances.plot.bar(yerr=std, ax=ax)\n",
    "ax.set_title(\"PR\")\n",
    "ax.set_ylabel(\"Feature importances\")\n",
    "fig.tight_layout()"
   ]
  },
  {
   "cell_type": "code",
   "execution_count": null,
   "metadata": {},
   "outputs": [],
   "source": []
  }
 ],
 "metadata": {
  "kernelspec": {
   "display_name": "Python [conda env:climatebench]",
   "language": "python",
   "name": "conda-env-climatebench-py"
  },
  "language_info": {
   "codemirror_mode": {
    "name": "ipython",
    "version": 3
   },
   "file_extension": ".py",
   "mimetype": "text/x-python",
   "name": "python",
   "nbconvert_exporter": "python",
   "pygments_lexer": "ipython3",
   "version": "3.9.6"
  }
 },
 "nbformat": 4,
 "nbformat_minor": 4
}
