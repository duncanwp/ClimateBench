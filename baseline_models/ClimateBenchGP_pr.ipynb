{
 "cells": [
  {
   "cell_type": "code",
   "execution_count": 1,
   "metadata": {
    "scrolled": true,
    "pycharm": {
     "name": "#%%\n"
    }
   },
   "outputs": [],
   "source": [
    "import os\n",
    "import numpy as np\n",
    "import pandas as pd\n",
    "import xarray as xr\n",
    "import matplotlib.pyplot as plt\n",
    "from matplotlib import colors\n",
    "from eofs.xarray import Eof\n",
    "import tensorflow as tf\n",
    "import gpflow\n",
    "import seaborn as sns\n",
    "import cartopy.crs as ccrs\n",
    "from utils import *"
   ]
  },
  {
   "cell_type": "markdown",
   "metadata": {
    "pycharm": {
     "name": "#%% md\n"
    }
   },
   "source": [
    "### Prepare data"
   ]
  },
  {
   "cell_type": "code",
   "execution_count": 2,
   "metadata": {
    "pycharm": {
     "name": "#%%\n"
    }
   },
   "outputs": [],
   "source": [
    "# List of dataset to use for training\n",
    "train_files = [\"ssp126\", \"ssp370\", \"ssp585\", \"historical\", \"hist-GHG\", \"hist-aer\"]"
   ]
  },
  {
   "cell_type": "code",
   "execution_count": 3,
   "metadata": {
    "pycharm": {
     "name": "#%%\n"
    }
   },
   "outputs": [],
   "source": [
    "# Create training and testing arrays\n",
    "X_train, eof_solvers = create_predictor_data(train_files)\n",
    "y_train_pr = create_predictdand_data(train_files)['pr'].values.reshape(-1, 96 * 144)\n",
    "\n",
    "X_test = get_test_data('ssp245', eof_solvers)\n",
    "Y_test = xr.open_dataset(data_path + 'outputs_ssp245.nc').compute()\n",
    "pr_truth = 86400 * Y_test[\"pr\"].mean('member')"
   ]
  },
  {
   "cell_type": "code",
   "execution_count": 4,
   "metadata": {
    "pycharm": {
     "name": "#%%\n"
    }
   },
   "outputs": [],
   "source": [
    "# Drop rows including nans\n",
    "nan_train_mask = X_train.isna().any(axis=1).values\n",
    "X_train = X_train.dropna(axis=0, how='any')\n",
    "y_train_pr = y_train_pr[~nan_train_mask]\n",
    "assert len(X_train) == len(y_train_pr)\n",
    "\n",
    "nan_test_mask = X_test.isna().any(axis=1).values\n",
    "X_test = X_test.dropna(axis=0, how='any')\n",
    "pr_truth = pr_truth[~nan_test_mask]"
   ]
  },
  {
   "cell_type": "code",
   "execution_count": 5,
   "metadata": {
    "pycharm": {
     "name": "#%%\n"
    }
   },
   "outputs": [],
   "source": [
    "# Standardize predictor fields requiring standardization (non-EOFs)\n",
    "train_CO2_mean, train_CO2_std = X_train['CO2'].mean(), X_train['CO2'].std()\n",
    "train_CH4_mean, train_CH4_std = X_train['CH4'].mean(), X_train['CH4'].std()\n",
    "\n",
    "X_train.CO2 = (X_train.CO2 - train_CO2_mean) / train_CO2_std\n",
    "X_train.CH4 = (X_train.CH4 - train_CH4_mean) / train_CH4_std\n",
    "\n",
    "X_test.CO2 = (X_test.CO2 - train_CO2_mean) / train_CO2_std\n",
    "X_test.CH4 = (X_test.CH4 - train_CH4_mean) / train_CH4_std"
   ]
  },
  {
   "cell_type": "code",
   "execution_count": 6,
   "metadata": {
    "pycharm": {
     "name": "#%%\n"
    }
   },
   "outputs": [],
   "source": [
    "# Standardize predictand fields\n",
    "train_pr_mean, train_pr_std = y_train_pr.mean(), y_train_pr.std()\n",
    "y_train_pr = (y_train_pr - train_pr_mean) / train_pr_std"
   ]
  },
  {
   "cell_type": "markdown",
   "metadata": {
    "pycharm": {
     "name": "#%% md\n"
    }
   },
   "source": [
    "### Prepare model"
   ]
  },
  {
   "cell_type": "code",
   "execution_count": 7,
   "metadata": {
    "pycharm": {
     "name": "#%%\n"
    }
   },
   "outputs": [
    {
     "name": "stderr",
     "output_type": "stream",
     "text": [
      "2022-08-19 12:47:56.992943: I tensorflow/core/platform/cpu_feature_guard.cc:151] This TensorFlow binary is optimized with oneAPI Deep Neural Network Library (oneDNN) to use the following CPU instructions in performance-critical operations:  AVX2 FMA\n",
      "To enable them in other operations, rebuild TensorFlow with the appropriate compiler flags.\n"
     ]
    }
   ],
   "source": [
    "# Make kernel\n",
    "kernel_CO2 = gpflow.kernels.Matern32(active_dims=[0])\n",
    "kernel_CH4 = gpflow.kernels.Matern32(active_dims=[1])\n",
    "\n",
    "kernel_BC = gpflow.kernels.Matern32(lengthscales=5 * [1.], active_dims=[2, 3, 4, 5, 6])\n",
    "kernel_SO2 = gpflow.kernels.Matern32(lengthscales=5 * [1.], active_dims=[7, 8, 9, 10, 11])\n",
    "\n",
    "kernel = kernel_CO2 + kernel_CH4 + kernel_BC + kernel_SO2"
   ]
  },
  {
   "cell_type": "code",
   "execution_count": 8,
   "metadata": {
    "pycharm": {
     "name": "#%%\n"
    }
   },
   "outputs": [],
   "source": [
    "# Make model\n",
    "np.random.seed(5)\n",
    "mean = gpflow.mean_functions.Constant()\n",
    "model = gpflow.models.GPR(data=(X_train.astype(np.float64), \n",
    "                                y_train_pr.astype(np.float64)),\n",
    "                          kernel=kernel,\n",
    "                          mean_function=mean)"
   ]
  },
  {
   "cell_type": "code",
   "execution_count": 9,
   "metadata": {
    "pycharm": {
     "name": "#%%\n"
    }
   },
   "outputs": [
    {
     "name": "stderr",
     "output_type": "stream",
     "text": [
      "2022-08-19 12:47:57.102143: W tensorflow/python/util/util.cc:368] Sets are not currently considered sequences, but this may change in the future, so consider avoiding using them.\n",
      " This problem is unconstrained.\n"
     ]
    },
    {
     "name": "stdout",
     "output_type": "stream",
     "text": [
      "RUNNING THE L-BFGS-B CODE\n",
      "\n",
      "           * * *\n",
      "\n",
      "Machine precision = 2.220D-16\n",
      " N =           18     M =           10\n",
      "\n",
      "At X0         0 variables are exactly at the bounds\n",
      "\n",
      "At iterate    0    f=  1.46144D+07    |proj g|=  6.59595D+05\n",
      "\n",
      "At iterate    1    f=  1.44612D+07    |proj g|=  1.03765D+05\n",
      "\n",
      "At iterate    2    f=  1.44451D+07    |proj g|=  1.01717D+05\n",
      "\n",
      "At iterate    3    f=  1.43598D+07    |proj g|=  3.61807D+05\n",
      "\n",
      "At iterate    4    f=  1.42008D+07    |proj g|=  6.35110D+05\n",
      "\n",
      "At iterate    5    f=  1.40093D+07    |proj g|=  4.53002D+05\n",
      "\n",
      "At iterate    6    f=  1.39421D+07    |proj g|=  1.07261D+05\n",
      "\n",
      "At iterate    7    f=  1.39380D+07    |proj g|=  1.25869D+04\n",
      "\n",
      "At iterate    8    f=  1.39374D+07    |proj g|=  1.47148D+04\n",
      "\n",
      "At iterate    9    f=  1.39363D+07    |proj g|=  5.03315D+04\n",
      "\n",
      "At iterate   10    f=  1.39340D+07    |proj g|=  9.61485D+04\n",
      "\n",
      "At iterate   11    f=  1.39291D+07    |proj g|=  1.52290D+05\n",
      "\n",
      "At iterate   12    f=  1.39207D+07    |proj g|=  1.90517D+05\n",
      "\n",
      "At iterate   13    f=  1.39107D+07    |proj g|=  1.59457D+05\n",
      "\n",
      "At iterate   14    f=  1.39063D+07    |proj g|=  5.31489D+04\n",
      "\n",
      "At iterate   15    f=  1.39041D+07    |proj g|=  8.22843D+03\n",
      "\n",
      "At iterate   16    f=  1.39038D+07    |proj g|=  6.19192D+03\n",
      "\n",
      "At iterate   17    f=  1.39022D+07    |proj g|=  5.44523D+03\n",
      "\n",
      "At iterate   18    f=  1.38971D+07    |proj g|=  6.56393D+03\n",
      "\n",
      "At iterate   19    f=  1.38946D+07    |proj g|=  1.18746D+04\n",
      "\n",
      "At iterate   20    f=  1.38939D+07    |proj g|=  2.35818D+03\n",
      "\n",
      "At iterate   21    f=  1.38929D+07    |proj g|=  2.35574D+03\n",
      "\n",
      "At iterate   22    f=  1.38928D+07    |proj g|=  5.22936D+04\n",
      "\n",
      "At iterate   23    f=  1.38922D+07    |proj g|=  1.68163D+04\n",
      "\n",
      "At iterate   24    f=  1.38920D+07    |proj g|=  3.95429D+03\n",
      "\n",
      "At iterate   25    f=  1.38917D+07    |proj g|=  5.38691D+03\n",
      "\n",
      "At iterate   26    f=  1.38912D+07    |proj g|=  1.32978D+04\n",
      "\n",
      "At iterate   27    f=  1.38903D+07    |proj g|=  2.06653D+04\n",
      "\n",
      "At iterate   28    f=  1.38891D+07    |proj g|=  1.79990D+04\n",
      "\n",
      "At iterate   29    f=  1.38889D+07    |proj g|=  1.20462D+04\n",
      "\n",
      "At iterate   30    f=  1.38888D+07    |proj g|=  5.19825D+03\n",
      "\n",
      "At iterate   31    f=  1.38886D+07    |proj g|=  1.98195D+03\n",
      "\n",
      "At iterate   32    f=  1.38885D+07    |proj g|=  1.19767D+04\n",
      "\n",
      "At iterate   33    f=  1.38885D+07    |proj g|=  7.77967D+03\n",
      "\n",
      "At iterate   34    f=  1.38884D+07    |proj g|=  1.23403D+03\n",
      "\n",
      "At iterate   35    f=  1.38884D+07    |proj g|=  4.15654D+03\n",
      "\n",
      "At iterate   36    f=  1.38882D+07    |proj g|=  1.21737D+04\n",
      "\n",
      "At iterate   37    f=  1.38880D+07    |proj g|=  1.91959D+04\n",
      "\n",
      "At iterate   38    f=  1.38876D+07    |proj g|=  2.06356D+04\n",
      "\n",
      "At iterate   39    f=  1.38874D+07    |proj g|=  6.08329D+04\n",
      "\n",
      "At iterate   40    f=  1.38867D+07    |proj g|=  3.13328D+04\n",
      "\n",
      "At iterate   41    f=  1.38861D+07    |proj g|=  4.53158D+03\n",
      "\n",
      "At iterate   42    f=  1.38859D+07    |proj g|=  6.11316D+03\n",
      "\n",
      "At iterate   43    f=  1.38858D+07    |proj g|=  1.04670D+04\n",
      "\n",
      "At iterate   44    f=  1.38857D+07    |proj g|=  8.60749D+03\n",
      "\n",
      "At iterate   45    f=  1.38855D+07    |proj g|=  1.25795D+04\n",
      "\n",
      "At iterate   46    f=  1.38851D+07    |proj g|=  1.30907D+04\n",
      "\n",
      "At iterate   47    f=  1.38846D+07    |proj g|=  2.17656D+04\n",
      "\n",
      "At iterate   48    f=  1.38840D+07    |proj g|=  2.24198D+04\n",
      "\n",
      "At iterate   49    f=  1.38830D+07    |proj g|=  2.41497D+04\n",
      "\n",
      "At iterate   50    f=  1.38826D+07    |proj g|=  9.31401D+03\n",
      "\n",
      "At iterate   51    f=  1.38824D+07    |proj g|=  2.28021D+03\n",
      "\n",
      "At iterate   52    f=  1.38824D+07    |proj g|=  1.17486D+03\n",
      "\n",
      "At iterate   53    f=  1.38822D+07    |proj g|=  2.11859D+03\n",
      "\n",
      "At iterate   54    f=  1.38818D+07    |proj g|=  6.93968D+03\n",
      "\n",
      "At iterate   55    f=  1.38811D+07    |proj g|=  7.73987D+03\n",
      "\n",
      "At iterate   56    f=  1.38809D+07    |proj g|=  9.22395D+03\n",
      "\n",
      "At iterate   57    f=  1.38806D+07    |proj g|=  6.21721D+03\n",
      "\n",
      "At iterate   58    f=  1.38806D+07    |proj g|=  2.40181D+04\n",
      "\n",
      "At iterate   59    f=  1.38804D+07    |proj g|=  1.80990D+03\n",
      "\n",
      "At iterate   60    f=  1.38804D+07    |proj g|=  4.89726D+02\n",
      "\n",
      "At iterate   61    f=  1.38804D+07    |proj g|=  1.93296D+03\n",
      "\n",
      "At iterate   62    f=  1.38804D+07    |proj g|=  2.92533D+02\n",
      "\n",
      "At iterate   63    f=  1.38804D+07    |proj g|=  2.00484D+02\n",
      "\n",
      "At iterate   64    f=  1.38804D+07    |proj g|=  4.26044D+02\n",
      "\n",
      "At iterate   65    f=  1.38804D+07    |proj g|=  6.54339D+02\n",
      "\n",
      "At iterate   66    f=  1.38804D+07    |proj g|=  8.15632D+02\n",
      "\n",
      "At iterate   67    f=  1.38804D+07    |proj g|=  5.42112D+02\n",
      "\n",
      "At iterate   68    f=  1.38803D+07    |proj g|=  5.29087D+02\n",
      "\n",
      "At iterate   69    f=  1.38803D+07    |proj g|=  1.04249D+03\n",
      "\n",
      "At iterate   70    f=  1.38803D+07    |proj g|=  3.63009D+03\n",
      "\n",
      "At iterate   71    f=  1.38802D+07    |proj g|=  1.87772D+03\n",
      "\n",
      "At iterate   72    f=  1.38802D+07    |proj g|=  1.09279D+03\n",
      "\n",
      "At iterate   73    f=  1.38802D+07    |proj g|=  3.44368D+03\n",
      "\n",
      "At iterate   74    f=  1.38802D+07    |proj g|=  2.43297D+03\n",
      "\n",
      "At iterate   75    f=  1.38801D+07    |proj g|=  8.30593D+02\n",
      "\n",
      "At iterate   76    f=  1.38801D+07    |proj g|=  5.98638D+02\n",
      "\n",
      "At iterate   77    f=  1.38801D+07    |proj g|=  1.31063D+03\n",
      "\n",
      "At iterate   78    f=  1.38800D+07    |proj g|=  1.70498D+03\n",
      "\n",
      "At iterate   79    f=  1.38800D+07    |proj g|=  1.20721D+03\n",
      "\n",
      "At iterate   80    f=  1.38800D+07    |proj g|=  5.38247D+02\n",
      "\n",
      "At iterate   81    f=  1.38800D+07    |proj g|=  2.46409D+03\n",
      "\n",
      "At iterate   82    f=  1.38800D+07    |proj g|=  6.03878D+02\n",
      "\n",
      "At iterate   83    f=  1.38800D+07    |proj g|=  4.53009D+02\n",
      "\n",
      "At iterate   84    f=  1.38800D+07    |proj g|=  4.61262D+02\n",
      "\n",
      "At iterate   85    f=  1.38800D+07    |proj g|=  9.57908D+02\n",
      "\n",
      "At iterate   86    f=  1.38800D+07    |proj g|=  5.11448D+02\n",
      "\n",
      "At iterate   87    f=  1.38800D+07    |proj g|=  8.92022D+01\n",
      "\n",
      "At iterate   88    f=  1.38800D+07    |proj g|=  3.41865D+02\n",
      "\n",
      "At iterate   89    f=  1.38800D+07    |proj g|=  5.55474D+02\n",
      "\n",
      "At iterate   90    f=  1.38800D+07    |proj g|=  3.96100D+02\n",
      "\n",
      "At iterate   91    f=  1.38800D+07    |proj g|=  8.57950D+01\n",
      "\n",
      "At iterate   92    f=  1.38800D+07    |proj g|=  7.10580D+02\n",
      "\n",
      "At iterate   93    f=  1.38800D+07    |proj g|=  2.78101D+02\n",
      "\n",
      "At iterate   94    f=  1.38800D+07    |proj g|=  1.65993D+03\n",
      "\n",
      "At iterate   95    f=  1.38800D+07    |proj g|=  1.14944D+03\n",
      "\n",
      "At iterate   96    f=  1.38800D+07    |proj g|=  6.60518D+02\n",
      "\n",
      "At iterate   97    f=  1.38800D+07    |proj g|=  5.58544D+02\n",
      "\n",
      "At iterate   98    f=  1.38800D+07    |proj g|=  1.52791D+03\n",
      "\n",
      "At iterate   99    f=  1.38800D+07    |proj g|=  1.05544D+03\n",
      "\n",
      "At iterate  100    f=  1.38799D+07    |proj g|=  2.71338D+02\n",
      "\n",
      "At iterate  101    f=  1.38799D+07    |proj g|=  5.74142D+02\n",
      "\n",
      "At iterate  102    f=  1.38799D+07    |proj g|=  7.89556D+02\n",
      "\n",
      "At iterate  103    f=  1.38799D+07    |proj g|=  1.64516D+03\n",
      "\n",
      "At iterate  104    f=  1.38799D+07    |proj g|=  2.96111D+03\n",
      "\n",
      "At iterate  105    f=  1.38799D+07    |proj g|=  8.20348D+02\n",
      "\n",
      "At iterate  106    f=  1.38799D+07    |proj g|=  3.27264D+03\n",
      "\n",
      "At iterate  107    f=  1.38799D+07    |proj g|=  8.68506D+02\n",
      "\n",
      "At iterate  108    f=  1.38799D+07    |proj g|=  4.94879D+02\n",
      "\n",
      "At iterate  109    f=  1.38799D+07    |proj g|=  8.00451D+02\n",
      "\n",
      "At iterate  110    f=  1.38798D+07    |proj g|=  1.27587D+03\n",
      "\n",
      "At iterate  111    f=  1.38798D+07    |proj g|=  2.77497D+03\n",
      "\n",
      "At iterate  112    f=  1.38798D+07    |proj g|=  1.36870D+03\n",
      "\n",
      "At iterate  113    f=  1.38798D+07    |proj g|=  4.99353D+02\n",
      "\n",
      "At iterate  114    f=  1.38797D+07    |proj g|=  7.76589D+02\n",
      "\n",
      "At iterate  115    f=  1.38796D+07    |proj g|=  2.30910D+03\n",
      "\n",
      "At iterate  116    f=  1.38796D+07    |proj g|=  3.09141D+03\n",
      "\n",
      "At iterate  117    f=  1.38795D+07    |proj g|=  6.75512D+03\n",
      "\n",
      "At iterate  118    f=  1.38795D+07    |proj g|=  1.51690D+03\n",
      "\n",
      "At iterate  119    f=  1.38795D+07    |proj g|=  6.03789D+02\n",
      "\n",
      "At iterate  120    f=  1.38795D+07    |proj g|=  9.53831D+02\n",
      "\n",
      "At iterate  121    f=  1.38795D+07    |proj g|=  1.60997D+03\n",
      "\n",
      "At iterate  122    f=  1.38795D+07    |proj g|=  3.87827D+02\n",
      "\n",
      "At iterate  123    f=  1.38795D+07    |proj g|=  3.96224D+02\n",
      "\n",
      "At iterate  124    f=  1.38795D+07    |proj g|=  5.92014D+03\n",
      "\n",
      "At iterate  125    f=  1.38794D+07    |proj g|=  5.05338D+03\n",
      "\n",
      "At iterate  126    f=  1.38794D+07    |proj g|=  2.18723D+03\n",
      "\n",
      "At iterate  127    f=  1.38794D+07    |proj g|=  1.04335D+03\n",
      "\n",
      "At iterate  128    f=  1.38794D+07    |proj g|=  3.04723D+03\n",
      "\n",
      "At iterate  129    f=  1.38794D+07    |proj g|=  2.27150D+03\n",
      "\n",
      "At iterate  130    f=  1.38793D+07    |proj g|=  4.47464D+03\n",
      "\n",
      "At iterate  131    f=  1.38793D+07    |proj g|=  4.17485D+03\n",
      "\n",
      "At iterate  132    f=  1.38793D+07    |proj g|=  8.89057D+02\n",
      "\n",
      "At iterate  133    f=  1.38792D+07    |proj g|=  1.86544D+03\n",
      "\n",
      "At iterate  134    f=  1.38792D+07    |proj g|=  1.51581D+03\n",
      "\n",
      "At iterate  135    f=  1.38791D+07    |proj g|=  9.00530D+03\n",
      "\n",
      "At iterate  136    f=  1.38791D+07    |proj g|=  4.95764D+03\n",
      "\n",
      "At iterate  137    f=  1.38791D+07    |proj g|=  7.21434D+02\n",
      "\n",
      "At iterate  138    f=  1.38791D+07    |proj g|=  4.70058D+02\n",
      "\n",
      "At iterate  139    f=  1.38791D+07    |proj g|=  9.25504D+02\n",
      "\n",
      "At iterate  140    f=  1.38791D+07    |proj g|=  1.26081D+03\n",
      "\n",
      "At iterate  141    f=  1.38791D+07    |proj g|=  3.32358D+03\n",
      "\n",
      "At iterate  142    f=  1.38791D+07    |proj g|=  2.18261D+03\n",
      "\n",
      "At iterate  143    f=  1.38790D+07    |proj g|=  5.60101D+02\n",
      "\n",
      "At iterate  144    f=  1.38790D+07    |proj g|=  3.98896D+03\n",
      "\n",
      "At iterate  145    f=  1.38790D+07    |proj g|=  5.31596D+03\n",
      "\n",
      "At iterate  146    f=  1.38790D+07    |proj g|=  2.75967D+03\n",
      "\n",
      "At iterate  147    f=  1.38790D+07    |proj g|=  6.18865D+03\n",
      "\n",
      "At iterate  148    f=  1.38789D+07    |proj g|=  7.57872D+03\n",
      "\n",
      "At iterate  149    f=  1.38789D+07    |proj g|=  2.40443D+03\n",
      "\n",
      "At iterate  150    f=  1.38789D+07    |proj g|=  5.59509D+02\n",
      "\n",
      "At iterate  151    f=  1.38788D+07    |proj g|=  1.28205D+03\n",
      "\n",
      "At iterate  152    f=  1.38788D+07    |proj g|=  2.27145D+03\n",
      "\n",
      "At iterate  153    f=  1.38788D+07    |proj g|=  1.08162D+03\n",
      "\n",
      "At iterate  154    f=  1.38788D+07    |proj g|=  1.35786D+02\n",
      "\n",
      "At iterate  155    f=  1.38788D+07    |proj g|=  3.82594D+02\n",
      "\n",
      "At iterate  156    f=  1.38788D+07    |proj g|=  5.71361D+02\n",
      "\n",
      "At iterate  157    f=  1.38788D+07    |proj g|=  2.71891D+02\n",
      "\n",
      "At iterate  158    f=  1.38788D+07    |proj g|=  1.05992D+02\n",
      "\n",
      "At iterate  159    f=  1.38788D+07    |proj g|=  1.34353D+03\n",
      "\n",
      "At iterate  160    f=  1.38788D+07    |proj g|=  9.29600D+02\n",
      "\n",
      "At iterate  161    f=  1.38788D+07    |proj g|=  1.86051D+02\n",
      "\n",
      "At iterate  162    f=  1.38788D+07    |proj g|=  5.27941D+02\n",
      "\n",
      "At iterate  163    f=  1.38788D+07    |proj g|=  1.05068D+03\n",
      "\n",
      "At iterate  164    f=  1.38788D+07    |proj g|=  4.11755D+02\n",
      "\n",
      "At iterate  165    f=  1.38788D+07    |proj g|=  6.37814D+02\n",
      "\n",
      "At iterate  166    f=  1.38788D+07    |proj g|=  2.47507D+02\n",
      "\n",
      "At iterate  167    f=  1.38788D+07    |proj g|=  2.10711D+02\n",
      "\n",
      "At iterate  168    f=  1.38788D+07    |proj g|=  2.15185D+02\n",
      "\n",
      "At iterate  169    f=  1.38788D+07    |proj g|=  1.73197D+02\n",
      "\n",
      "At iterate  170    f=  1.38788D+07    |proj g|=  5.05281D+02\n",
      "\n",
      "At iterate  171    f=  1.38788D+07    |proj g|=  3.42999D+02\n",
      "\n",
      "At iterate  172    f=  1.38788D+07    |proj g|=  2.03359D+02\n",
      "\n",
      "At iterate  173    f=  1.38788D+07    |proj g|=  1.97826D+02\n",
      "\n",
      "At iterate  174    f=  1.38788D+07    |proj g|=  3.73764D+02\n",
      "\n",
      "At iterate  175    f=  1.38787D+07    |proj g|=  2.27839D+02\n",
      "\n",
      "At iterate  176    f=  1.38787D+07    |proj g|=  1.53345D+02\n",
      "\n",
      "At iterate  177    f=  1.38787D+07    |proj g|=  5.47030D+02\n",
      "\n",
      "At iterate  178    f=  1.38787D+07    |proj g|=  7.95019D+02\n",
      "\n",
      "At iterate  179    f=  1.38787D+07    |proj g|=  2.14871D+02\n",
      "\n",
      "At iterate  180    f=  1.38787D+07    |proj g|=  3.08354D+02\n",
      "\n",
      "At iterate  181    f=  1.38787D+07    |proj g|=  1.01589D+03\n",
      "\n",
      "At iterate  182    f=  1.38787D+07    |proj g|=  6.81379D+02\n",
      "\n",
      "At iterate  183    f=  1.38787D+07    |proj g|=  4.46803D+02\n",
      "\n",
      "At iterate  184    f=  1.38787D+07    |proj g|=  9.71359D+02\n",
      "\n",
      "At iterate  185    f=  1.38787D+07    |proj g|=  2.81669D+03\n",
      "\n",
      "At iterate  186    f=  1.38786D+07    |proj g|=  3.40435D+03\n",
      "\n",
      "At iterate  187    f=  1.38786D+07    |proj g|=  2.71363D+03\n",
      "\n",
      "At iterate  188    f=  1.38786D+07    |proj g|=  4.04919D+02\n",
      "\n",
      "At iterate  189    f=  1.38785D+07    |proj g|=  1.11750D+03\n",
      "\n",
      "At iterate  190    f=  1.38785D+07    |proj g|=  1.16236D+03\n",
      "\n",
      "At iterate  191    f=  1.38785D+07    |proj g|=  2.83344D+02\n",
      "\n",
      "At iterate  192    f=  1.38785D+07    |proj g|=  1.17418D+03\n",
      "\n",
      "At iterate  193    f=  1.38785D+07    |proj g|=  3.63913D+02\n",
      "\n",
      "At iterate  194    f=  1.38785D+07    |proj g|=  2.86698D+02\n",
      "\n",
      "At iterate  195    f=  1.38785D+07    |proj g|=  7.98631D+02\n",
      "\n",
      "At iterate  196    f=  1.38785D+07    |proj g|=  8.67475D+02\n",
      "\n",
      "At iterate  197    f=  1.38785D+07    |proj g|=  1.69536D+03\n",
      "\n",
      "At iterate  198    f=  1.38785D+07    |proj g|=  2.73943D+02\n",
      "\n",
      "At iterate  199    f=  1.38785D+07    |proj g|=  1.48840D+02\n",
      "\n",
      "At iterate  200    f=  1.38785D+07    |proj g|=  7.58811D+02\n",
      "\n",
      "At iterate  201    f=  1.38785D+07    |proj g|=  5.09347D+02\n",
      "\n",
      "At iterate  202    f=  1.38785D+07    |proj g|=  3.40668D+02\n",
      "\n",
      "At iterate  203    f=  1.38785D+07    |proj g|=  4.39006D+02\n",
      "\n",
      "At iterate  204    f=  1.38785D+07    |proj g|=  7.76738D+02\n",
      "\n",
      "At iterate  205    f=  1.38785D+07    |proj g|=  6.18126D+02\n",
      "\n",
      "At iterate  206    f=  1.38785D+07    |proj g|=  1.37567D+02\n",
      "\n",
      "At iterate  207    f=  1.38785D+07    |proj g|=  1.35534D+02\n",
      "\n",
      "At iterate  208    f=  1.38785D+07    |proj g|=  4.45766D+02\n",
      "\n",
      "At iterate  209    f=  1.38785D+07    |proj g|=  1.58395D+02\n",
      "\n",
      "At iterate  210    f=  1.38785D+07    |proj g|=  2.14165D+02\n",
      "\n",
      "At iterate  211    f=  1.38785D+07    |proj g|=  1.00303D+03\n",
      "\n",
      "At iterate  212    f=  1.38785D+07    |proj g|=  8.18117D+02\n",
      "\n",
      "At iterate  213    f=  1.38785D+07    |proj g|=  5.41923D+02\n",
      "\n",
      "At iterate  214    f=  1.38785D+07    |proj g|=  3.63035D+02\n",
      "\n",
      "At iterate  215    f=  1.38785D+07    |proj g|=  1.00507D+03\n",
      "\n",
      "At iterate  216    f=  1.38785D+07    |proj g|=  2.47204D+02\n",
      "\n",
      "At iterate  217    f=  1.38785D+07    |proj g|=  1.55675D+02\n",
      "\n",
      "At iterate  218    f=  1.38785D+07    |proj g|=  1.82836D+02\n",
      "\n",
      "At iterate  219    f=  1.38785D+07    |proj g|=  1.10588D+02\n",
      "\n",
      "At iterate  220    f=  1.38785D+07    |proj g|=  5.02974D+02\n",
      "\n",
      "At iterate  221    f=  1.38785D+07    |proj g|=  1.85452D+02\n",
      "\n",
      "At iterate  222    f=  1.38785D+07    |proj g|=  5.86974D+02\n",
      "\n",
      "At iterate  223    f=  1.38785D+07    |proj g|=  3.31947D+02\n",
      "\n",
      "At iterate  224    f=  1.38785D+07    |proj g|=  1.02989D+02\n",
      "\n",
      "At iterate  225    f=  1.38785D+07    |proj g|=  9.23221D+01\n",
      "\n",
      "At iterate  226    f=  1.38785D+07    |proj g|=  3.09163D+02\n",
      "\n",
      "At iterate  227    f=  1.38785D+07    |proj g|=  2.27106D+02\n",
      "\n",
      "At iterate  228    f=  1.38785D+07    |proj g|=  9.63317D+01\n",
      "\n",
      "At iterate  229    f=  1.38785D+07    |proj g|=  8.68012D+01\n",
      "\n",
      "At iterate  230    f=  1.38785D+07    |proj g|=  1.37891D+02\n",
      "\n",
      "At iterate  231    f=  1.38785D+07    |proj g|=  7.52443D+02\n",
      "\n",
      "At iterate  232    f=  1.38785D+07    |proj g|=  2.95361D+02\n",
      "\n",
      "At iterate  233    f=  1.38785D+07    |proj g|=  1.32278D+03\n",
      "\n",
      "At iterate  234    f=  1.38784D+07    |proj g|=  6.17354D+02\n",
      "\n",
      "At iterate  235    f=  1.38784D+07    |proj g|=  2.20910D+02\n",
      "\n",
      "At iterate  236    f=  1.38784D+07    |proj g|=  7.10785D+02\n",
      "\n",
      "At iterate  237    f=  1.38784D+07    |proj g|=  8.01514D+02\n",
      "\n",
      "At iterate  238    f=  1.38784D+07    |proj g|=  1.39055D+03\n",
      "\n",
      "At iterate  239    f=  1.38784D+07    |proj g|=  8.05900D+02\n",
      "\n",
      "At iterate  240    f=  1.38784D+07    |proj g|=  1.15898D+02\n",
      "\n",
      "At iterate  241    f=  1.38784D+07    |proj g|=  4.53212D+02\n",
      "\n",
      "At iterate  242    f=  1.38784D+07    |proj g|=  4.37216D+02\n",
      "\n",
      "At iterate  243    f=  1.38784D+07    |proj g|=  1.08225D+03\n",
      "\n",
      "At iterate  244    f=  1.38784D+07    |proj g|=  3.31332D+02\n",
      "\n",
      "At iterate  245    f=  1.38784D+07    |proj g|=  4.66996D+01\n",
      "\n",
      "At iterate  246    f=  1.38784D+07    |proj g|=  2.90130D+02\n",
      "\n",
      "At iterate  247    f=  1.38784D+07    |proj g|=  4.01370D+01\n",
      "\n",
      "At iterate  248    f=  1.38784D+07    |proj g|=  6.10476D+01\n"
     ]
    },
    {
     "data": {
      "text/plain": [
       "      fun: 13878431.024324706\n",
       " hess_inv: <18x18 LbfgsInvHessProduct with dtype=float64>\n",
       "      jac: array([ 1.34384509e+01, -1.75004554e+01,  3.16832252e-25,  3.36748291e-23,\n",
       "       -3.84033071e+01, -2.04294375e-01,  1.67528649e+00,  8.46984142e-02,\n",
       "       -1.90860702e-02, -2.84811905e+01, -1.44897491e+01, -1.22641847e+01,\n",
       "        1.35494132e+01, -1.96144720e+00,  1.15706139e+01,  3.29505650e+01,\n",
       "        2.04895664e+02,  6.12656081e+01])\n",
       "  message: 'CONVERGENCE: REL_REDUCTION_OF_F_<=_FACTR*EPSMCH'\n",
       "     nfev: 291\n",
       "      nit: 249\n",
       "     njev: 291\n",
       "   status: 0\n",
       "  success: True\n",
       "        x: array([ 4.93789847e+00,  4.24319815e-02,  5.19215541e+01, -6.02654545e+01,\n",
       "        1.54478714e+00,  6.83355476e+01,  3.19762481e+01,  3.19818331e+01,\n",
       "        8.36213643e+01, -4.16883700e+00,  6.60573619e+00,  7.39476473e+00,\n",
       "        1.27131547e+01,  1.05080306e+02,  1.90042912e+01, -1.10324308e+00,\n",
       "        2.36823162e-01,  2.72431403e-02])"
      ]
     },
     "execution_count": 9,
     "metadata": {},
     "output_type": "execute_result"
    },
    {
     "name": "stdout",
     "output_type": "stream",
     "text": [
      "\n",
      "At iterate  249    f=  1.38784D+07    |proj g|=  2.04896D+02\n",
      "\n",
      "           * * *\n",
      "\n",
      "Tit   = total number of iterations\n",
      "Tnf   = total number of function evaluations\n",
      "Tnint = total number of segments explored during Cauchy searches\n",
      "Skip  = number of BFGS updates skipped\n",
      "Nact  = number of active bounds at final generalized Cauchy point\n",
      "Projg = norm of the final projected gradient\n",
      "F     = final function value\n",
      "\n",
      "           * * *\n",
      "\n",
      "   N    Tit     Tnf  Tnint  Skip  Nact     Projg        F\n",
      "   18    249    291      1     0     0   2.049D+02   1.388D+07\n",
      "  F =   13878431.024324706     \n",
      "\n",
      "CONVERGENCE: REL_REDUCTION_OF_F_<=_FACTR*EPSMCH             \n"
     ]
    }
   ],
   "source": [
    "# Define optimizer\n",
    "opt = gpflow.optimizers.Scipy()\n",
    "\n",
    "# Train model\n",
    "opt.minimize(model.training_loss,\n",
    "             variables=model.trainable_variables,\n",
    "             options=dict(disp=True, maxiter=1000))"
   ]
  },
  {
   "cell_type": "markdown",
   "metadata": {
    "pycharm": {
     "name": "#%% md\n"
    }
   },
   "source": [
    "### Predict on testing set"
   ]
  },
  {
   "cell_type": "code",
   "execution_count": 10,
   "metadata": {
    "pycharm": {
     "name": "#%%\n"
    }
   },
   "outputs": [],
   "source": [
    "# predict\n",
    "standard_posterior_mean, standard_posterior_var = model.predict_y(X_test.values)\n",
    "posterior_mean = standard_posterior_mean * train_pr_std + train_pr_mean\n",
    "posterior_std = np.sqrt(standard_posterior_var) * train_pr_std"
   ]
  },
  {
   "cell_type": "code",
   "execution_count": 11,
   "metadata": {
    "pycharm": {
     "name": "#%%\n"
    }
   },
   "outputs": [],
   "source": [
    "# put output back into pd.DataFrame format for calculating RMSE/plotting\n",
    "posterior_pr = np.reshape(posterior_mean, [86, 96, 144])\n",
    "posterior_pr_std = np.reshape(posterior_std, [86, 96, 144])\n",
    "posterior_pr_data = xr.DataArray(posterior_pr, dims=pr_truth.dims, coords=pr_truth.coords)\n",
    "posterior_pr_std_data = xr.DataArray(posterior_pr_std, dims=pr_truth.dims, coords=pr_truth.coords)"
   ]
  },
  {
   "cell_type": "code",
   "execution_count": 12,
   "metadata": {
    "pycharm": {
     "name": "#%%\n"
    }
   },
   "outputs": [
    {
     "name": "stdout",
     "output_type": "stream",
     "text": [
      "RMSE at 2050: 0.38385995927843\n",
      "RMSE at 2100: 0.5678646198635401\n",
      "RMSE 2045-2055: 0.4987684228466508\n",
      "RMSE 2090-2100: 0.5264419036696247\n",
      "RMSE 2050-2100: 0.5338538055321764\n",
      "RMSE average last 20y: 0.17631429626666298\n"
     ]
    }
   ],
   "source": [
    "# Compute RMSEs\n",
    "print(f\"RMSE at 2050: {get_rmse(pr_truth[35], posterior_pr_data[35])}\")\n",
    "print(f\"RMSE at 2100: {get_rmse(pr_truth[85], posterior_pr_data[85])}\")\n",
    "print(f\"RMSE 2045-2055: {get_rmse(pr_truth[30:41], posterior_pr_data[30:41]).mean()}\")\n",
    "print(f\"RMSE 2090-2100: {get_rmse(pr_truth[75:], posterior_pr_data[75:]).mean()}\")\n",
    "print(f\"RMSE 2050-2100: {get_rmse(pr_truth[35:], posterior_pr_data[35:]).mean()}\")\n",
    "\n",
    "# RMSE for average field over last 20 years\n",
    "print(f\"RMSE average last 20y: {get_rmse(pr_truth[-20:].mean(dim='time'), posterior_pr_data[-20:].mean(dim='time'))}\")"
   ]
  },
  {
   "cell_type": "code",
   "execution_count": 13,
   "metadata": {
    "pycharm": {
     "name": "#%%\n"
    }
   },
   "outputs": [
    {
     "data": {
      "text/plain": [
       "[Text(0.5, 1.0, 'Difference')]"
      ]
     },
     "execution_count": 13,
     "metadata": {},
     "output_type": "execute_result"
    },
    {
     "data": {
      "image/png": "[encoded data removed]",
      "text/plain": [
       "<Figure size 1296x216 with 6 Axes>"
      ]
     },
     "metadata": {
      "needs_background": "light"
     },
     "output_type": "display_data"
    }
   ],
   "source": [
    "# plotting predictions\n",
    "divnorm = colors.TwoSlopeNorm(vmin=-2., vcenter=0., vmax=5)\n",
    "diffnorm = colors.TwoSlopeNorm(vmin=-2., vcenter=0., vmax=2)\n",
    "\n",
    "## Temperature\n",
    "proj = ccrs.PlateCarree()\n",
    "fig = plt.figure(figsize=(18, 3))\n",
    "fig.suptitle('Precipitation')\n",
    "\n",
    "# Test\n",
    "plt.subplot(131, projection=proj)\n",
    "pr_truth.sel(time=slice(2050,None)).mean('time').plot(cmap=\"coolwarm\", vmin=-2,\n",
    "                              cbar_kwargs={\"label\":\"Precip change / mm day-1 \"})\n",
    "plt.gca().coastlines()\n",
    "plt.setp(plt.gca(), title='True')\n",
    "\n",
    "# Emulator\n",
    "plt.subplot(132, projection=proj)\n",
    "posterior_pr_data.sel(time=slice(2050,None)).mean('time').plot(cmap=\"coolwarm\", vmin=-2,\n",
    "                              cbar_kwargs={\"label\":\"Precip change / mm day-1 \"})\n",
    "plt.gca().coastlines()\n",
    "plt.setp(plt.gca(), title='GP posterior mean')\n",
    "\n",
    "# Difference\n",
    "difference = pr_truth - posterior_pr_data\n",
    "plt.subplot(133, projection=proj)\n",
    "difference.sel(time=slice(2050,None)).mean('time').plot(cmap=\"bwr\", norm=diffnorm,\n",
    "                cbar_kwargs={\"label\":\"Precip change / mm day-1 \"})\n",
    "plt.gca().coastlines()\n",
    "plt.setp(plt.gca(), title='Difference')"
   ]
  },
  {
   "cell_type": "markdown",
   "metadata": {
    "pycharm": {
     "name": "#%% md\n"
    }
   },
   "source": [
    "__Feature importance__\n",
    "- CO2 (0.53)\n",
    "- SO2 (1.21)\n",
    "- Significant internal variability (0.44)"
   ]
  },
  {
   "cell_type": "code",
   "execution_count": 14,
   "metadata": {
    "scrolled": true,
    "pycharm": {
     "name": "#%%\n"
    }
   },
   "outputs": [
    {
     "data": {
      "text/html": [
       "&lt;gpflow.models.gpr.GPR object at 0x147e5e2b0&gt;\n",
       "<table>\n",
       "<thead>\n",
       "<tr><th>name                              </th><th>class    </th><th>transform       </th><th>prior  </th><th>trainable  </th><th>shape  </th><th>dtype  </th><th>value                                   </th></tr>\n",
       "</thead>\n",
       "<tbody>\n",
       "<tr><td>GPR.mean_function.c               </td><td>Parameter</td><td>Identity        </td><td>       </td><td>True       </td><td>(1,)   </td><td>float64</td><td>[0.02724314]                            </td></tr>\n",
       "<tr><td>GPR.kernel.kernels[0].variance    </td><td>Parameter</td><td>Softplus        </td><td>       </td><td>True       </td><td>()     </td><td>float64</td><td>0.7145882135577846                      </td></tr>\n",
       "<tr><td>GPR.kernel.kernels[0].lengthscales</td><td>Parameter</td><td>Softplus        </td><td>       </td><td>True       </td><td>()     </td><td>float64</td><td>4.945042539166876                       </td></tr>\n",
       "<tr><td>GPR.kernel.kernels[1].variance    </td><td>Parameter</td><td>Softplus        </td><td>       </td><td>True       </td><td>()     </td><td>float64</td><td>6.71499423862321e-27                    </td></tr>\n",
       "<tr><td>GPR.kernel.kernels[1].lengthscales</td><td>Parameter</td><td>Softplus        </td><td>       </td><td>True       </td><td>()     </td><td>float64</td><td>51.921554110987785                      </td></tr>\n",
       "<tr><td>GPR.kernel.kernels[2].variance    </td><td>Parameter</td><td>Softplus        </td><td>       </td><td>True       </td><td>()     </td><td>float64</td><td>0.015351797439969062                    </td></tr>\n",
       "<tr><td>GPR.kernel.kernels[2].lengthscales</td><td>Parameter</td><td>Softplus        </td><td>       </td><td>True       </td><td>(5,)   </td><td>float64</td><td>[1.73817827, 68.33554755, 31.97624805...</td></tr>\n",
       "<tr><td>GPR.kernel.kernels[3].variance    </td><td>Parameter</td><td>Softplus        </td><td>       </td><td>True       </td><td>()     </td><td>float64</td><td>0.2865263825307291                      </td></tr>\n",
       "<tr><td>GPR.kernel.kernels[3].lengthscales</td><td>Parameter</td><td>Softplus        </td><td>       </td><td>True       </td><td>(5,)   </td><td>float64</td><td>[6.60708786, 7.39537901, 12.7131577...  </td></tr>\n",
       "<tr><td>GPR.likelihood.variance           </td><td>Parameter</td><td>Softplus + Shift</td><td>       </td><td>True       </td><td>()     </td><td>float64</td><td>0.8185540907886618                      </td></tr>\n",
       "</tbody>\n",
       "</table>"
      ],
      "text/plain": [
       "<gpflow.models.gpr.GPR object at 0x147e5e2b0>\n",
       "╒════════════════════════════════════╤═══════════╤══════════════════╤═════════╤═════════════╤═════════╤═════════╤══════════════════════════════════════════╕\n",
       "│ name                               │ class     │ transform        │ prior   │ trainable   │ shape   │ dtype   │ value                                    │\n",
       "╞════════════════════════════════════╪═══════════╪══════════════════╪═════════╪═════════════╪═════════╪═════════╪══════════════════════════════════════════╡\n",
       "│ GPR.mean_function.c                │ Parameter │ Identity         │         │ True        │ (1,)    │ float64 │ [0.02724314]                             │\n",
       "├────────────────────────────────────┼───────────┼──────────────────┼─────────┼─────────────┼─────────┼─────────┼──────────────────────────────────────────┤\n",
       "│ GPR.kernel.kernels[0].variance     │ Parameter │ Softplus         │         │ True        │ ()      │ float64 │ 0.7145882135577846                       │\n",
       "├────────────────────────────────────┼───────────┼──────────────────┼─────────┼─────────────┼─────────┼─────────┼──────────────────────────────────────────┤\n",
       "│ GPR.kernel.kernels[0].lengthscales │ Parameter │ Softplus         │         │ True        │ ()      │ float64 │ 4.945042539166876                        │\n",
       "├────────────────────────────────────┼───────────┼──────────────────┼─────────┼─────────────┼─────────┼─────────┼──────────────────────────────────────────┤\n",
       "│ GPR.kernel.kernels[1].variance     │ Parameter │ Softplus         │         │ True        │ ()      │ float64 │ 6.71499423862321e-27                     │\n",
       "├────────────────────────────────────┼───────────┼──────────────────┼─────────┼─────────────┼─────────┼─────────┼──────────────────────────────────────────┤\n",
       "│ GPR.kernel.kernels[1].lengthscales │ Parameter │ Softplus         │         │ True        │ ()      │ float64 │ 51.921554110987785                       │\n",
       "├────────────────────────────────────┼───────────┼──────────────────┼─────────┼─────────────┼─────────┼─────────┼──────────────────────────────────────────┤\n",
       "│ GPR.kernel.kernels[2].variance     │ Parameter │ Softplus         │         │ True        │ ()      │ float64 │ 0.015351797439969062                     │\n",
       "├────────────────────────────────────┼───────────┼──────────────────┼─────────┼─────────────┼─────────┼─────────┼──────────────────────────────────────────┤\n",
       "│ GPR.kernel.kernels[2].lengthscales │ Parameter │ Softplus         │         │ True        │ (5,)    │ float64 │ [1.73817827, 68.33554755, 31.97624805... │\n",
       "├────────────────────────────────────┼───────────┼──────────────────┼─────────┼─────────────┼─────────┼─────────┼──────────────────────────────────────────┤\n",
       "│ GPR.kernel.kernels[3].variance     │ Parameter │ Softplus         │         │ True        │ ()      │ float64 │ 0.2865263825307291                       │\n",
       "├────────────────────────────────────┼───────────┼──────────────────┼─────────┼─────────────┼─────────┼─────────┼──────────────────────────────────────────┤\n",
       "│ GPR.kernel.kernels[3].lengthscales │ Parameter │ Softplus         │         │ True        │ (5,)    │ float64 │ [6.60708786, 7.39537901, 12.7131577...   │\n",
       "├────────────────────────────────────┼───────────┼──────────────────┼─────────┼─────────────┼─────────┼─────────┼──────────────────────────────────────────┤\n",
       "│ GPR.likelihood.variance            │ Parameter │ Softplus + Shift │         │ True        │ ()      │ float64 │ 0.8185540907886618                       │\n",
       "╘════════════════════════════════════╧═══════════╧══════════════════╧═════════╧═════════════╧═════════╧═════════╧══════════════════════════════════════════╛"
      ]
     },
     "execution_count": 14,
     "metadata": {},
     "output_type": "execute_result"
    }
   ],
   "source": [
    "model"
   ]
  },
  {
   "cell_type": "code",
   "execution_count": 15,
   "metadata": {
    "pycharm": {
     "name": "#%%\n"
    }
   },
   "outputs": [],
   "source": [
    "# Save predictions\n",
    "posterior_pr_data.to_netcdf('climatebench-gp-posterior-mean-pr-test-2019-2100.nc')\n",
    "posterior_pr_std_data.to_netcdf('climatebench-gp-posterior-std-pr-test-2019-2100.nc')"
   ]
  }
 ],
 "metadata": {
  "kernelspec": {
   "display_name": "Python [conda env:climatebench]",
   "language": "python",
   "name": "conda-env-climatebench-py"
  },
  "language_info": {
   "codemirror_mode": {
    "name": "ipython",
    "version": 3
   },
   "file_extension": ".py",
   "mimetype": "text/x-python",
   "name": "python",
   "nbconvert_exporter": "python",
   "pygments_lexer": "ipython3",
   "version": "3.9.13"
  }
 },
 "nbformat": 4,
 "nbformat_minor": 4
}