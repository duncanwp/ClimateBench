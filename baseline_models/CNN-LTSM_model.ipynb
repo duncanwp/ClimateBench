{
 "cells": [
  {
   "cell_type": "code",
   "execution_count": 7,
   "id": "2b3b003f-907c-4c67-b8ac-c5efb51810c3",
   "metadata": {},
   "outputs": [
    {
     "name": "stderr",
     "output_type": "stream",
     "text": [
      "2022-04-04 18:54:46.787544: W tensorflow/stream_executor/platform/default/dso_loader.cc:64] Could not load dynamic library 'libcudart.so.11.0'; dlerror: libcudart.so.11.0: cannot open shared object file: No such file or directory\n",
      "2022-04-04 18:54:46.787571: I tensorflow/stream_executor/cuda/cudart_stub.cc:29] Ignore above cudart dlerror if you do not have a GPU set up on your machine.\n"
     ]
    }
   ],
   "source": [
    "import keras\n",
    "import random\n",
    "import numpy as np\n",
    "import xarray as xr\n",
    "import pandas as pd\n",
    "import cartopy.crs as ccrs\n",
    "import matplotlib.pyplot as plt\n",
    "\n",
    "from matplotlib import colors\n",
    "from keras import Sequential\n",
    "from keras.layers import Dense, Activation, Conv2D, Flatten, Input, Reshape, AveragePooling2D, MaxPooling2D, Conv2DTranspose, TimeDistributed, LSTM, GlobalAveragePooling2D, BatchNormalization\n",
    "from keras.regularizers import l2\n",
    "\n",
    "# import from parent level\n",
    "import sys \n",
    "sys.path.append('..')\n",
    "from path_parameters import TRAIN_PATH, TEST_PATH, OUTPUT_PATH\n",
    "\n",
    "random.seed(13)"
   ]
  },
  {
   "cell_type": "code",
   "execution_count": 10,
   "id": "fcc75229-2ffb-403e-baba-07f93ceb5c3d",
   "metadata": {},
   "outputs": [],
   "source": [
    "data_path = TRAIN_PATH\n",
    "test_path = TEST_PATH\n",
    "output_path = OUTPUT_PATH\n",
    "lstm_output_path = output_path + \"outputs_ssp245_predict_pr_10to1_kern3_bs5.nc\""
   ]
  },
  {
   "cell_type": "markdown",
   "id": "9fb6dd6b-4fe8-490c-99c4-e1bd9f6b27aa",
   "metadata": {},
   "source": [
    "# Load data"
   ]
  },
  {
   "cell_type": "code",
   "execution_count": null,
   "id": "3e1b26e4-f7a0-4f2b-8d6d-5fa1f7f17aed",
   "metadata": {},
   "outputs": [],
   "source": [
    "simus = ['ssp126',\n",
    "        'ssp370',\n",
    "         #'ssp370-lowNTCF',\n",
    "         'ssp585']"
   ]
  },
  {
   "cell_type": "code",
   "execution_count": null,
   "id": "aeac9a4f-78ba-4929-9aac-41cbaf7004ea",
   "metadata": {},
   "outputs": [],
   "source": [
    "X_train = []\n",
    "Y_train = []\n",
    "\n",
    "for i,simu in enumerate(simus): \n",
    "    input_name = 'inputs_' + simu + '.nc'\n",
    "    output_name = 'outputs_' + simu + '.nc'\n",
    "    \n",
    "    mbr = 1\n",
    "    # load inputs \n",
    "    input_xr = xr.open_mfdataset([data_path + 'inputs_historical.nc', \n",
    "                             data_path + input_name]).compute()\n",
    "        \n",
    "    # load outputs                                                             \n",
    "    output_xr = xr.concat([xr.open_dataset(data_path + 'outputs_historical.nc').sel(member=2),\n",
    "                     xr.open_dataset(data_path + output_name).sel(member=mbr)], dim='time').compute()\n",
    "    output_xr = output_xr.assign({\"pr\": output_xr.pr * 86400, \"pr90\": output_xr.pr90 * 86400}).rename({'lon':'longitude', \n",
    "                         'lat': 'latitude'}).transpose('time','latitude', 'longitude').drop(['member','quantile'])\n",
    "    \n",
    "    # Append to list \n",
    "    X_train.append(input_xr)\n",
    "    Y_train.append(output_xr)"
   ]
  },
  {
   "cell_type": "markdown",
   "id": "58a99c63-0d83-459a-aeb8-4b53e355596d",
   "metadata": {},
   "source": [
    "# Data normalization"
   ]
  },
  {
   "cell_type": "code",
   "execution_count": null,
   "id": "0cae427c-e327-4794-8c84-0473c5c432c3",
   "metadata": {},
   "outputs": [],
   "source": [
    "minmax_inputs = {'CO2': [0, 10000],\n",
    " 'CH4': [0, 1],\n",
    " 'BC': [0, 6e-11],\n",
    " 'SO2': [0, 2e-09]}"
   ]
  },
  {
   "cell_type": "code",
   "execution_count": null,
   "id": "18d96d94-c607-43fb-8c39-8ed167c16fd1",
   "metadata": {},
   "outputs": [],
   "source": [
    "minmax_outputs = {'tas': [-7, 15],\n",
    " 'diurnal_temperature_range': [-2.25, 6],\n",
    " 'pr': [-11, 14],\n",
    " 'pr90': [-25.5, 35]}"
   ]
  },
  {
   "cell_type": "code",
   "execution_count": null,
   "id": "0dc275fe-b724-45fe-a5cc-051d8948c265",
   "metadata": {},
   "outputs": [],
   "source": [
    "# Utilities for normalizing the emissions data\n",
    "def normalize(data, var, minmax_dict): \n",
    "    min_var = minmax_dict[var][0]\n",
    "    max_var = minmax_dict[var][1]\n",
    "    return (data-min_var) / (max_var-min_var)\n",
    "\n",
    "def unnormalize(data, var, minmax_dict):\n",
    "    min_var = minmax_dict[var][0]\n",
    "    max_var = minmax_dict[var][1]\n",
    "    return data * (max_var-min_var)+ min_var"
   ]
  },
  {
   "cell_type": "code",
   "execution_count": null,
   "id": "50a7f625-54d9-48fa-890e-a0d48f723488",
   "metadata": {},
   "outputs": [],
   "source": [
    "# normalize data \n",
    "X_train_norm = [] \n",
    "for i,train_xr in enumerate(X_train): \n",
    "    for var in ['CO2', 'CH4', 'SO2', 'BC']: \n",
    "        var_dims = train_xr[var].dims\n",
    "        train_xr=train_xr.assign({var: (var_dims,normalize(train_xr[var].data, var, minmax_inputs))}) \n",
    "    X_train_norm.append(train_xr)\n",
    "        \n",
    "Y_train_norm = []\n",
    "for i,train_xr in enumerate(Y_train): \n",
    "    for var in ['tas', 'diurnal_temperature_range', 'pr', 'pr90']: \n",
    "        var_dims = train_xr[var].dims\n",
    "        train_xr=train_xr.assign({var: (var_dims,normalize(train_xr[var].data, var, minmax_outputs))}) \n",
    "    Y_train_norm.append(train_xr)"
   ]
  },
  {
   "cell_type": "markdown",
   "id": "03599f76-da77-44da-9062-54c6bbd3f2dc",
   "metadata": {},
   "source": [
    "## Reshape data to feed into the model "
   ]
  },
  {
   "cell_type": "code",
   "execution_count": null,
   "id": "60807e35-f86c-4aec-afe9-04870afe49fb",
   "metadata": {},
   "outputs": [],
   "source": [
    "slider = 10 # years moving temporal window "
   ]
  },
  {
   "cell_type": "code",
   "execution_count": null,
   "id": "03daa746-92f2-45d5-8dbf-8a7c92b6f7ff",
   "metadata": {},
   "outputs": [],
   "source": [
    "# Functions for reshaping the data \n",
    "def input_for_training(X_train_xr): \n",
    "    \n",
    "    X_train_reshaped = xr.Dataset.from_dataframe(X_train_xr.to_dataframe())\n",
    "    X_train_np = np.array([X_train_reshaped['CO2'].data, X_train_reshaped['CH4'].data, X_train_reshaped['SO2'].data, X_train_reshaped['BC'].data])\n",
    "    X_train_np = X_train_np.transpose(3,1,2,0)\n",
    "\n",
    "    time_length = X_train_np.shape[0]\n",
    "    X_train_to_return = np.array([X_train_np[i:i+slider] for i in range(0,time_length-slider)])\n",
    "    \n",
    "    return X_train_to_return \n",
    "\n",
    "def output_for_training(Y_train_xr, var): \n",
    "    Y_train_np = Y_train_xr[var].data\n",
    "    \n",
    "    time_length = Y_train_np.shape[0]\n",
    "    Y_train_to_return = np.array([[Y_train_np[i+slider-1]] for i in range(0,time_length-slider)])\n",
    "    \n",
    "    return Y_train_to_return"
   ]
  },
  {
   "cell_type": "markdown",
   "id": "0b2b6d19-9148-4ec3-b24f-088d45cb7536",
   "metadata": {},
   "source": [
    "# CNN - LSTM architecture\n",
    "## Test on one variable\n",
    "## Build model"
   ]
  },
  {
   "cell_type": "code",
   "execution_count": null,
   "id": "cc392647",
   "metadata": {},
   "outputs": [],
   "source": [
    "var_to_predict =  'tas' \n",
    "X_train_all = np.concatenate([input_for_training(X_train_norm[i]) for i in range(len(simus))],axis = 0)\n",
    "Y_train_all = np.concatenate([output_for_training(Y_train_norm[i], var_to_predict) for i in range(len(simus))], axis=0)\n",
    "X_train_all.shape, Y_train_all.shape"
   ]
  },
  {
   "cell_type": "markdown",
   "id": "1fed989c-2c70-4074-9001-2e5abd871020",
   "metadata": {},
   "source": [
    "inspo: https://medium.com/smileinnovation/how-to-work-with-time-distributed-data-in-a-neural-network-b8b39aa4ce00"
   ]
  },
  {
   "cell_type": "code",
   "execution_count": null,
   "id": "cc161e00-995d-481b-a3c1-78c3554c823d",
   "metadata": {},
   "outputs": [],
   "source": [
    "keras.backend.clear_session()\n",
    "cnn_model = None"
   ]
  },
  {
   "cell_type": "code",
   "execution_count": null,
   "id": "ef5adc53-1041-4373-bc3c-bb193653a2c2",
   "metadata": {},
   "outputs": [],
   "source": [
    "cnn_model = Sequential()\n",
    "cnn_model.add(Input(shape=(slider, 96, 144, 4)))\n",
    "cnn_model.add(TimeDistributed(Conv2D(20, (3, 3), padding='same', activation='relu'), input_shape=(slider, 96, 144, 4)))\n",
    "cnn_model.add(TimeDistributed(AveragePooling2D(2)))\n",
    "cnn_model.add(TimeDistributed(GlobalAveragePooling2D()))\n",
    "cnn_model.add(LSTM(25, activation='relu'))\n",
    "cnn_model.add(Dense(1*96*144))\n",
    "cnn_model.add(Activation('linear'))\n",
    "cnn_model.add(Reshape((1, 96, 144)))\n"
   ]
  },
  {
   "cell_type": "markdown",
   "id": "fbd68231-c311-4eae-aa70-9c451e4c02c0",
   "metadata": {},
   "source": [
    "Maybe add regularization : https://machinelearningmastery.com/how-to-reduce-overfitting-in-deep-learning-with-weight-regularization/ and batch normalization (scale inputs in between layers) https://machinelearningmastery.com/how-to-accelerate-learning-of-deep-neural-networks-with-batch-normalization/  and learning rate optimizer: https://machinelearningmastery.com/understand-the-dynamics-of-learning-rate-on-deep-learning-neural-networks/ "
   ]
  },
  {
   "cell_type": "code",
   "execution_count": null,
   "id": "d41b9730-d5b3-4af5-bb33-dcbffd08a3a5",
   "metadata": {},
   "outputs": [],
   "source": [
    "cnn_model.summary()"
   ]
  },
  {
   "cell_type": "code",
   "execution_count": null,
   "id": "489ac468-01c5-4234-b26f-2630d2a0df3d",
   "metadata": {},
   "outputs": [],
   "source": [
    "cnn_model.compile(optimizer=\"rmsprop\", loss=\"mse\", metrics=[\"mse\"]) "
   ]
  },
  {
   "cell_type": "markdown",
   "id": "2ffe39ed-a80d-47e8-aa4d-1e46d4c75f21",
   "metadata": {},
   "source": [
    "# Train model"
   ]
  },
  {
   "cell_type": "code",
   "execution_count": null,
   "id": "5552065d-c863-4031-9b6d-00a901dcfe39",
   "metadata": {},
   "outputs": [],
   "source": [
    "hist = cnn_model.fit(X_train_all,\n",
    "                     Y_train_all,\n",
    "                     #use_multiprocessing = True, \n",
    "                     #workers = 5, \n",
    "                     batch_size=5,\n",
    "                     epochs=20,\n",
    "                     verbose=1)"
   ]
  },
  {
   "cell_type": "code",
   "execution_count": null,
   "id": "ff13c55e-2724-44fd-bc71-9bc9d5a2dd08",
   "metadata": {},
   "outputs": [],
   "source": [
    "# Save the entire model as a SavedModel.\n",
    "#!mkdir -p saved_model\n"
   ]
  },
  {
   "cell_type": "markdown",
   "id": "e7388f59-7cce-4e21-9c00-4b5177d6889b",
   "metadata": {},
   "source": [
    "# Make final prediction for submission"
   ]
  },
  {
   "cell_type": "code",
   "execution_count": null,
   "id": "d1410291-dc26-4d3f-a96b-a4bdce02852c",
   "metadata": {},
   "outputs": [],
   "source": [
    "# Open and reformat test data \n",
    "X_test = xr.open_mfdataset([data_path + 'inputs_historical.nc',\n",
    "                            test_path + 'inputs_ssp245.nc']).compute()\n",
    "# normalize data \n",
    "for var in ['CO2', 'CH4', 'SO2', 'BC']: \n",
    "    var_dims = X_test[var].dims\n",
    "    X_test=X_test.assign({var: (var_dims,normalize(X_test[var].data, var, minmax_inputs))}) \n",
    "    \n",
    "X_test_np = input_for_training(X_test)  "
   ]
  },
  {
   "cell_type": "code",
   "execution_count": null,
   "id": "d3a959a6-2402-4201-baab-1264b831dbb7",
   "metadata": {},
   "outputs": [],
   "source": [
    "# Make predictions using trained model \n",
    "m_pred = cnn_model.predict(X_test_np)\n",
    "# reshape to xarray \n",
    "m_pred = m_pred.reshape(m_pred.shape[0], m_pred.shape[2], m_pred.shape[3])\n",
    "m_pred = xr.DataArray(m_pred, dims=['time','lat','lon'], coords= [X_test.time.data[slider:], X_test.latitude.data, X_test.longitude.data ])\n",
    "# unnormalize \n",
    "m_pred.data = unnormalize(m_pred.data, var_to_predict, minmax_outputs)\n",
    "m_pred = m_pred.transpose('lat','lon','time').sel(time=slice(2015,2101)).to_dataset(name=var_to_predict)\n",
    "m_pred"
   ]
  },
  {
   "cell_type": "code",
   "execution_count": null,
   "id": "bc035dcc-3ca0-40b1-a48e-f2a4386a1877",
   "metadata": {},
   "outputs": [],
   "source": [
    "# Plot results \n",
    "divnorm=colors.TwoSlopeNorm(vmin=-2., vcenter=0., vmax=4.)\n",
    "\n",
    "print(var_to_predict)\n",
    "for yr in [2020, 2050, 2100]: \n",
    "    f, axes = plt.subplots(1,1,\n",
    "                           subplot_kw=dict(projection=ccrs.PlateCarree()),\n",
    "                           figsize=(9, 5))\n",
    "\n",
    "    m_pred.sel(time=yr).plot.pcolormesh(ax= axes, cmap=\"coolwarm\", norm=divnorm,\n",
    "                                  cbar_kwargs={\"label\":var_to_predict})\n",
    "    axes.set_title(f\"Estimated {yr}\")"
   ]
  },
  {
   "cell_type": "code",
   "execution_count": null,
   "id": "3818256a-9501-4eec-8b55-079528450105",
   "metadata": {},
   "outputs": [],
   "source": [
    "# unit conversion if applicable (i.e. for precipitation)\n",
    "# m_pred = m_pred.assign({var: m_pred[var] / 86400})"
   ]
  },
  {
   "cell_type": "code",
   "execution_count": 6,
   "id": "4dc7d03c-c51e-4da7-8085-0404d639e3fe",
   "metadata": {},
   "outputs": [
    {
     "ename": "NameError",
     "evalue": "name 'm_pred' is not defined",
     "output_type": "error",
     "traceback": [
      "\u001b[0;31m---------------------------------------------------------------------------\u001b[0m",
      "\u001b[0;31mNameError\u001b[0m                                 Traceback (most recent call last)",
      "\u001b[0;32m/tmp/ipykernel_21542/3708596726.py\u001b[0m in \u001b[0;36m<module>\u001b[0;34m\u001b[0m\n\u001b[1;32m      1\u001b[0m \u001b[0;31m# save test predictions as .nc\u001b[0m\u001b[0;34m\u001b[0m\u001b[0;34m\u001b[0m\u001b[0;34m\u001b[0m\u001b[0m\n\u001b[0;32m----> 2\u001b[0;31m \u001b[0mm_pred\u001b[0m\u001b[0;34m.\u001b[0m\u001b[0mto_netcdf\u001b[0m\u001b[0;34m(\u001b[0m\u001b[0moutput_path\u001b[0m\u001b[0;34m)\u001b[0m\u001b[0;34m\u001b[0m\u001b[0;34m\u001b[0m\u001b[0m\n\u001b[0m",
      "\u001b[0;31mNameError\u001b[0m: name 'm_pred' is not defined"
     ]
    }
   ],
   "source": [
    "# save test predictions as .nc \n",
    "m_pred.to_netcdf(output_path)"
   ]
  },
  {
   "cell_type": "markdown",
   "id": "32ea7017-bcf2-427e-bf93-60aa0e043c31",
   "metadata": {},
   "source": [
    "# Run training and predictions for each target variable"
   ]
  },
  {
   "cell_type": "code",
   "execution_count": null,
   "id": "f0fb9299-d2bf-4160-b277-1652c7c77a5d",
   "metadata": {},
   "outputs": [],
   "source": [
    "vars_to_predict = ['tas', 'diurnal_temperature_range', 'pr', 'pr90']\n",
    "\n",
    "# Open and reformat test data \n",
    "X_test = xr.open_mfdataset([data_path + 'inputs_historical.nc',\n",
    "                            test_path + 'inputs_ssp245.nc']).compute()\n",
    "# normalize data \n",
    "for var in ['CO2', 'CH4', 'SO2', 'BC']: \n",
    "    var_dims = X_test[var].dims\n",
    "    X_test=X_test.assign({var: (var_dims,normalize(X_test[var].data, var, minmax_inputs))}) \n",
    "    \n",
    "X_test_np = input_for_training(X_test)  "
   ]
  },
  {
   "cell_type": "code",
   "execution_count": 9,
   "id": "76205f3c-5ec8-404f-8ad1-eb436c8de6b6",
   "metadata": {},
   "outputs": [
    {
     "ename": "NameError",
     "evalue": "name 'vars_to_predict' is not defined",
     "output_type": "error",
     "traceback": [
      "\u001b[0;31m---------------------------------------------------------------------------\u001b[0m",
      "\u001b[0;31mNameError\u001b[0m                                 Traceback (most recent call last)",
      "\u001b[0;32m/tmp/ipykernel_21542/265803806.py\u001b[0m in \u001b[0;36m<module>\u001b[0;34m\u001b[0m\n\u001b[0;32m----> 1\u001b[0;31m \u001b[0;32mfor\u001b[0m \u001b[0mvar_to_predict\u001b[0m \u001b[0;32min\u001b[0m \u001b[0mvars_to_predict\u001b[0m\u001b[0;34m:\u001b[0m\u001b[0;34m\u001b[0m\u001b[0;34m\u001b[0m\u001b[0m\n\u001b[0m\u001b[1;32m      2\u001b[0m \u001b[0;34m\u001b[0m\u001b[0m\n\u001b[1;32m      3\u001b[0m     \u001b[0mprint\u001b[0m\u001b[0;34m(\u001b[0m\u001b[0mvar_to_predict\u001b[0m\u001b[0;34m)\u001b[0m\u001b[0;34m\u001b[0m\u001b[0;34m\u001b[0m\u001b[0m\n\u001b[1;32m      4\u001b[0m \u001b[0;34m\u001b[0m\u001b[0m\n\u001b[1;32m      5\u001b[0m     \u001b[0;31m# Data\u001b[0m\u001b[0;34m\u001b[0m\u001b[0;34m\u001b[0m\u001b[0;34m\u001b[0m\u001b[0m\n",
      "\u001b[0;31mNameError\u001b[0m: name 'vars_to_predict' is not defined"
     ]
    }
   ],
   "source": [
    "for var_to_predict in vars_to_predict:\n",
    "    \n",
    "    print(var_to_predict)\n",
    "    \n",
    "    # Data\n",
    "    X_train_all = np.concatenate([input_for_training(X_train_norm[i]) for i in range(len(simus))],axis = 0)\n",
    "    Y_train_all = np.concatenate([output_for_training(Y_train_norm[i],var_to_predict) for i in range(len(simus))], axis=0)\n",
    "    print(X_train_all.shape)\n",
    "    print(Y_train_all.shape)\n",
    "    \n",
    "    # Model    \n",
    "    keras.backend.clear_session()\n",
    "    cnn_model = None\n",
    "    \n",
    "    cnn_model = Sequential()\n",
    "    cnn_model.add(Input(shape=(slider, 96, 144, 4)))\n",
    "    cnn_model.add(TimeDistributed(Conv2D(20, (3, 3), padding='same', activation='relu'),input_shape=(slider, 96, 144, 4)))\n",
    "    cnn_model.add(TimeDistributed(AveragePooling2D(2)))\n",
    "    cnn_model.add(TimeDistributed(GlobalAveragePooling2D()))\n",
    "    cnn_model.add(LSTM(25, activation = 'relu'))\n",
    "    cnn_model.add(Dense(1*96*144))\n",
    "    cnn_model.add(Activation('linear'))\n",
    "    cnn_model.add(Reshape((1, 96, 144)))\n",
    "    \n",
    "    cnn_model.compile(optimizer=\"rmsprop\", loss=\"mse\", metrics=[\"mse\"])\n",
    "    \n",
    "    hist = cnn_model.fit(X_train_all,\n",
    "                         Y_train_all,\n",
    "                         use_multiprocessing = True, \n",
    "                         #workers = 5, \n",
    "                         batch_size=5, epochs=20,  # 25 for tas,  5 for pr_3, pr, dtr_2  \n",
    "                         verbose=1)\n",
    "    \n",
    "    # Make predictions using trained model \n",
    "    m_pred = cnn_model.predict(X_test_np)\n",
    "    # reshape to xarray \n",
    "    m_pred = m_pred.reshape(m_pred.shape[0], m_pred.shape[2], m_pred.shape[3])\n",
    "    m_pred = xr.DataArray(m_pred, dims=['time','lat','lon'], coords= [X_test.time.data[slider:], X_test.latitude.data, X_test.longitude.data ])\n",
    "    # unnormalize \n",
    "    m_pred.data = unnormalize(m_pred.data, var_to_predict, minmax_outputs)\n",
    "    xr_prediction = m_pred.transpose('lat','lon','time').sel(time=slice(2015,2101)).to_dataset(name=var_to_predict)\n",
    "\n",
    "    if var_to_predict==\"pr90\" or var_to_predict==\"pr\":\n",
    "        xr_prediction = xr_prediction.assign({var_to_predict: xr_prediction[var_to_predict] / 86400})\n",
    "\n",
    "    # save test predictions as .nc \n",
    "    if var_to_predict == \"diurnal_temperature_range\":\n",
    "        xr_prediction.to_netcdf((output_path+\"outputs_ssp245_predict_dtr.nc\"),'w')\n",
    "\n",
    "    else:\n",
    "        xr_prediction.to_netcdf((output_path+\"outputs_ssp245_predict_{}.nc\").format(var_to_predict),'w')\n",
    "    xr_prediction.close()\n"
   ]
  },
  {
   "cell_type": "code",
   "execution_count": null,
   "id": "e710471f",
   "metadata": {},
   "outputs": [],
   "source": []
  }
 ],
 "metadata": {
  "kernelspec": {
   "display_name": "Python 3 (ipykernel)",
   "language": "python",
   "name": "python3"
  },
  "language_info": {
   "codemirror_mode": {
    "name": "ipython",
    "version": 3
   },
   "file_extension": ".py",
   "mimetype": "text/x-python",
   "name": "python",
   "nbconvert_exporter": "python",
   "pygments_lexer": "ipython3",
   "version": "3.7.11"
  }
 },
 "nbformat": 4,
 "nbformat_minor": 5
}
