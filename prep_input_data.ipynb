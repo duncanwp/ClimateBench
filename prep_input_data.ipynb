{
 "cells": [
  {
   "cell_type": "code",
   "execution_count": 1,
   "metadata": {},
   "outputs": [],
   "source": [
    "import xarray as xr\n",
    "import os.path\n",
    "import pandas as pd\n",
    "from glob import glob\n",
    "import xesmf as xe\n",
    "\n",
    "import matplotlib.pyplot as plt\n",
    "import numpy as np"
   ]
  },
  {
   "cell_type": "code",
   "execution_count": 2,
   "metadata": {},
   "outputs": [],
   "source": [
    "input_path = '/gws/nopw/j04/impala/shared/input4MIPS/'\n",
    "path_f = input_path+'/{species}*-{scenario}-1-1_gn*.nc'\n",
    "output_path = '/home/users/dwatsonparris/ClimateBench/'\n",
    "path_f_csv = input_path+'/{species}*-{scenario}-1-1_gn*.csv'"
   ]
  },
  {
   "cell_type": "code",
   "execution_count": 3,
   "metadata": {},
   "outputs": [],
   "source": [
    "experiments = [\n",
    "               'ssp126', 'ssp245', 'ssp370', 'ssp370-lowNTCF', 'ssp585' #\tScenarioMIP\n",
    "]"
   ]
  },
  {
   "cell_type": "code",
   "execution_count": 4,
   "metadata": {},
   "outputs": [],
   "source": [
    "# All units are in kg m-2 s-1\n",
    "# Convert to GtC -> multiply by area of earth, period I've summed, and divide by weight of carbon\n",
    "AREA_OF_EARTH = 5.101e+14 #m2\n",
    "SECONDS_IN_YEAR = 60*60*24*365 #s\n",
    "MASS_OF_CARBON = 1.9944235e-26  #kg\n",
    "FRACTION_OF_CARBON_MASS = (6) / (6 + 8 + 8)\n",
    "\n",
    "convert = lambda x: x * AREA_OF_EARTH * SECONDS_IN_YEAR * 1e-12 # kg -> Gt\n",
    "\n",
    "def global_mean(ds):\n",
    "    if 'plev' in ds.coords:\n",
    "        res = ds.sum('plev')\n",
    "    else:\n",
    "        res = ds\n",
    "        \n",
    "    weights = np.cos(np.deg2rad(ds.lat))\n",
    "    weights.name = \"weights\"\n",
    "    gl_mean = res.weighted(weights).mean((\"lon\", \"lat\"))\n",
    "    \n",
    "    return gl_mean\n",
    "\n",
    "def global_sum(ds):\n",
    "    if 'plev' in ds.coords:\n",
    "        res = ds.sum('plev')\n",
    "    else:\n",
    "        res = ds\n",
    "        \n",
    "    weights = np.cos(np.deg2rad(ds.lat))\n",
    "    weights.name = \"weights\"\n",
    "    gl_total = res.weighted(weights).sum((\"lon\", \"lat\")) * AREA_OF_EARTH\n",
    "    \n",
    "    return gl_total"
   ]
  },
  {
   "cell_type": "markdown",
   "metadata": {},
   "source": [
    "# Setup regridding"
   ]
  },
  {
   "cell_type": "code",
   "execution_count": 5,
   "metadata": {},
   "outputs": [],
   "source": [
    "noresm_grid = xr.open_dataset(output_path+'/NorESM2-LM_ssp585_r1i1p1f1.nc')"
   ]
  },
  {
   "cell_type": "code",
   "execution_count": 6,
   "metadata": {},
   "outputs": [
    {
     "name": "stderr",
     "output_type": "stream",
     "text": [
      "/home/users/dwatsonparris/miniconda3/envs/xarray/lib/python3.9/site-packages/xesmf/backend.py:53: UserWarning: Latitude is outside of [-90, 90]\n",
      "  warnings.warn('Latitude is outside of [-90, 90]')\n"
     ]
    }
   ],
   "source": [
    "example_input4MIPs_ds = xr.open_mfdataset(path_f.format(species=\"CO2\", scenario='ssp585'), combine='by_coords').sum('sector')\n",
    "regridder = xe.Regridder(example_input4MIPs_ds, noresm_grid.rename({'lat': 'latitude', 'lon': 'longitude'}), 'conservative', periodic=True)"
   ]
  },
  {
   "cell_type": "code",
   "execution_count": 7,
   "metadata": {},
   "outputs": [
    {
     "name": "stderr",
     "output_type": "stream",
     "text": [
      "/home/users/dwatsonparris/miniconda3/envs/xarray/lib/python3.9/site-packages/xesmf/frontend.py:555: FutureWarning: ``output_sizes`` should be given in the ``dask_gufunc_kwargs`` parameter. It will be removed as direct parameter in a future version.\n",
      "  ds_out = xr.apply_ufunc(\n"
     ]
    }
   ],
   "source": [
    "coarse_emissions = regridder(example_input4MIPs_ds)"
   ]
  },
  {
   "cell_type": "code",
   "execution_count": 8,
   "metadata": {},
   "outputs": [
    {
     "name": "stdout",
     "output_type": "stream",
     "text": [
      "<xarray.DataArray 'CO2_em_anthro' ()>\n",
      "array(2.63778652e-05)\n"
     ]
    },
    {
     "data": {
      "text/plain": [
       "<matplotlib.collections.QuadMesh at 0x7f9400675e50>"
      ]
     },
     "execution_count": 8,
     "metadata": {},
     "output_type": "execute_result"
    },
    {
     "data": {
      "image/png": "[encoded data removed]",
      "text/plain": [
       "<Figure size 432x288 with 2 Axes>"
      ]
     },
     "metadata": {
      "needs_background": "light"
     },
     "output_type": "display_data"
    }
   ],
   "source": [
    "print(coarse_emissions.sel(time='2015-01')['CO2_em_anthro'].sum().compute())\n",
    "coarse_emissions.sel(time='2015-01')['CO2_em_anthro'].squeeze().plot.pcolormesh(vmin=1e-7, vmax=2e-7)"
   ]
  },
  {
   "cell_type": "code",
   "execution_count": 9,
   "metadata": {},
   "outputs": [
    {
     "name": "stdout",
     "output_type": "stream",
     "text": [
      "<xarray.DataArray 'CO2_em_anthro' ()>\n",
      "array(0.00050094, dtype=float32)\n"
     ]
    },
    {
     "data": {
      "text/plain": [
       "<matplotlib.collections.QuadMesh at 0x7f94004f4220>"
      ]
     },
     "execution_count": 9,
     "metadata": {},
     "output_type": "execute_result"
    },
    {
     "data": {
      "image/png": "[encoded data removed]",
      "text/plain": [
       "<Figure size 432x288 with 2 Axes>"
      ]
     },
     "metadata": {
      "needs_background": "light"
     },
     "output_type": "display_data"
    }
   ],
   "source": [
    "print(example_input4MIPs_ds.sel(time='2015-01')['CO2_em_anthro'].sum().compute())\n",
    "example_input4MIPs_ds.sel(time='2015-01')['CO2_em_anthro'].squeeze().plot.pcolormesh(vmin=1e-7, vmax=2e-7)"
   ]
  },
  {
   "cell_type": "markdown",
   "metadata": {},
   "source": [
    "# Get input4MIPS"
   ]
  },
  {
   "cell_type": "code",
   "execution_count": 10,
   "metadata": {},
   "outputs": [],
   "source": [
    "# For CO2 I might want to do a cumsum (especially since i'm using mass from the idealised simulations)\n",
    "# For SO2 I took a difference from PD (2015-2020) before but I don't think I should do that now, they can experiment with it"
   ]
  },
  {
   "cell_type": "code",
   "execution_count": 11,
   "metadata": {},
   "outputs": [
    {
     "name": "stdout",
     "output_type": "stream",
     "text": [
      "<xarray.Dataset>\n",
      "Dimensions:  (year: 150)\n",
      "Coordinates:\n",
      "  * year     (year) int64 1 2 3 4 5 6 7 8 9 ... 143 144 145 146 147 148 149 150\n",
      "Data variables:\n",
      "    CO2      (year) float32 dask.array<chunksize=(1,), meta=np.ndarray>\n",
      "    SO2      (year) float32 dask.array<chunksize=(1,), meta=np.ndarray>\n",
      "    CH4      (year) float32 dask.array<chunksize=(1,), meta=np.ndarray>\n",
      "    BC       (year) float32 dask.array<chunksize=(1,), meta=np.ndarray>\n",
      "<xarray.Dataset>\n",
      "Dimensions:  (year: 500)\n",
      "Coordinates:\n",
      "  * year     (year) int64 1 2 3 4 5 6 7 8 9 ... 493 494 495 496 497 498 499 500\n",
      "Data variables:\n",
      "    CO2      (year) float32 dask.array<chunksize=(1,), meta=np.ndarray>\n",
      "    SO2      (year) float32 dask.array<chunksize=(1,), meta=np.ndarray>\n",
      "    CH4      (year) float32 dask.array<chunksize=(1,), meta=np.ndarray>\n",
      "    BC       (year) float32 dask.array<chunksize=(1,), meta=np.ndarray>\n"
     ]
    }
   ],
   "source": [
    "# Deal with CMIP experiments\n",
    "\n",
    "# get the baseline CO2 mass from piControl\n",
    "\n",
    "# CO2 mass in kg\n",
    "baseline_co2_mass = xr.open_mfdataset(input_path+'/co2mass_Amon_NorESM2-LM_piControl*.nc')['co2mass'].mean()\n",
    "\n",
    "# 1pctCO2\n",
    "\n",
    "# (additional) CO2 mass in kg\n",
    "co2_ts = (xr.open_mfdataset(input_path+'/co2mass_Amon_NorESM2-LM_1pctCO2*.nc')['co2mass'].groupby('time.year').mean() - baseline_co2_mass).rename('CO2')\n",
    "so2_ts = xr.zeros_like(co2_ts).rename('SO2')\n",
    "ch4_ts = xr.zeros_like(co2_ts).rename('CH4')\n",
    "bc_ts = xr.zeros_like(co2_ts).rename('BC')\n",
    "\n",
    "ds = xr.merge([co2_ts, so2_ts, ch4_ts, bc_ts])\n",
    "print(ds)\n",
    "ds.rename({'year': 'time'}).to_netcdf('inputs_1pctCO2.nc')\n",
    "\n",
    "# abrupt-4xCO2\n",
    "\n",
    "# (additional) CO2 mass in kg\n",
    "co2_ts = (xr.open_mfdataset(input_path+'/co2mass_Amon_NorESM2-LM_abrupt-4xCO2*.nc')['co2mass'].groupby('time.year').mean() - baseline_co2_mass).rename('CO2')\n",
    "so2_ts = xr.zeros_like(co2_ts).rename('SO2')\n",
    "ch4_ts = xr.zeros_like(co2_ts).rename('CH4')\n",
    "bc_ts = xr.zeros_like(co2_ts).rename('BC')\n",
    "\n",
    "ds = xr.merge([co2_ts, so2_ts, ch4_ts, bc_ts])\n",
    "print(ds)\n",
    "ds.rename({'year': 'time'}).to_netcdf('inputs_abrupt-4xCO2.nc')\n"
   ]
  },
  {
   "cell_type": "code",
   "execution_count": 12,
   "metadata": {},
   "outputs": [
    {
     "data": {
      "text/html": [
       "<div>\n",
       "<style scoped>\n",
       "    .dataframe tbody tr th:only-of-type {\n",
       "        vertical-align: middle;\n",
       "    }\n",
       "\n",
       "    .dataframe tbody tr th {\n",
       "        vertical-align: top;\n",
       "    }\n",
       "\n",
       "    .dataframe thead th {\n",
       "        text-align: right;\n",
       "    }\n",
       "</style>\n",
       "<table border=\"1\" class=\"dataframe\">\n",
       "  <thead>\n",
       "    <tr style=\"text-align: right;\">\n",
       "      <th></th>\n",
       "      <th>global_total</th>\n",
       "    </tr>\n",
       "    <tr>\n",
       "      <th>year</th>\n",
       "      <th></th>\n",
       "    </tr>\n",
       "  </thead>\n",
       "  <tbody>\n",
       "    <tr>\n",
       "      <th>1850</th>\n",
       "      <td>0.188297</td>\n",
       "    </tr>\n",
       "    <tr>\n",
       "      <th>1851</th>\n",
       "      <td>0.188947</td>\n",
       "    </tr>\n",
       "    <tr>\n",
       "      <th>1852</th>\n",
       "      <td>0.196570</td>\n",
       "    </tr>\n",
       "    <tr>\n",
       "      <th>1853</th>\n",
       "      <td>0.205034</td>\n",
       "    </tr>\n",
       "    <tr>\n",
       "      <th>1854</th>\n",
       "      <td>0.241471</td>\n",
       "    </tr>\n",
       "    <tr>\n",
       "      <th>...</th>\n",
       "      <td>...</td>\n",
       "    </tr>\n",
       "    <tr>\n",
       "      <th>2010</th>\n",
       "      <td>32.892259</td>\n",
       "    </tr>\n",
       "    <tr>\n",
       "      <th>2011</th>\n",
       "      <td>33.919973</td>\n",
       "    </tr>\n",
       "    <tr>\n",
       "      <th>2012</th>\n",
       "      <td>34.398774</td>\n",
       "    </tr>\n",
       "    <tr>\n",
       "      <th>2013</th>\n",
       "      <td>35.398253</td>\n",
       "    </tr>\n",
       "    <tr>\n",
       "      <th>2014</th>\n",
       "      <td>35.617503</td>\n",
       "    </tr>\n",
       "  </tbody>\n",
       "</table>\n",
       "<p>165 rows × 1 columns</p>\n",
       "</div>"
      ],
      "text/plain": [
       "      global_total\n",
       "year              \n",
       "1850      0.188297\n",
       "1851      0.188947\n",
       "1852      0.196570\n",
       "1853      0.205034\n",
       "1854      0.241471\n",
       "...            ...\n",
       "2010     32.892259\n",
       "2011     33.919973\n",
       "2012     34.398774\n",
       "2013     35.398253\n",
       "2014     35.617503\n",
       "\n",
       "[165 rows x 1 columns]"
      ]
     },
     "execution_count": 12,
     "metadata": {},
     "output_type": "execute_result"
    }
   ],
   "source": [
    "all_files = glob(input_path+'/CO2-em-AIR-anthro_input4MIPs_emissions_CMIP_CEDS-2017-05-18_gn_*.csv')\n",
    "co2_air=pd.concat((pd.read_csv(f, index_col=['year', 'month', 'sector']) for f in all_files)) \n",
    "co2_air=co2_air.groupby(level=['year']).sum() / 1e6\n",
    "all_files = glob(input_path+'/CO2-em-anthro_input4MIPs_emissions_CMIP_CEDS-2017-05-18_gn_*.csv')\n",
    "co2=pd.concat((pd.read_csv(f, index_col=['year', 'month', 'sector']) for f in all_files)) \n",
    "co2=co2.groupby(level=['year']).sum() / 1e6\n",
    "co2_tot = (co2_air + co2)[100:]\n",
    "co2_tot"
   ]
  },
  {
   "cell_type": "code",
   "execution_count": 13,
   "metadata": {},
   "outputs": [
    {
     "data": {
      "text/html": [
       "<div>\n",
       "<style scoped>\n",
       "    .dataframe tbody tr th:only-of-type {\n",
       "        vertical-align: middle;\n",
       "    }\n",
       "\n",
       "    .dataframe tbody tr th {\n",
       "        vertical-align: top;\n",
       "    }\n",
       "\n",
       "    .dataframe thead th {\n",
       "        text-align: right;\n",
       "    }\n",
       "</style>\n",
       "<table border=\"1\" class=\"dataframe\">\n",
       "  <thead>\n",
       "    <tr style=\"text-align: right;\">\n",
       "      <th></th>\n",
       "      <th>global_total</th>\n",
       "    </tr>\n",
       "    <tr>\n",
       "      <th>year</th>\n",
       "      <th></th>\n",
       "    </tr>\n",
       "  </thead>\n",
       "  <tbody>\n",
       "    <tr>\n",
       "      <th>1850</th>\n",
       "      <td>0.031306</td>\n",
       "    </tr>\n",
       "    <tr>\n",
       "      <th>1851</th>\n",
       "      <td>0.031742</td>\n",
       "    </tr>\n",
       "    <tr>\n",
       "      <th>1852</th>\n",
       "      <td>0.032178</td>\n",
       "    </tr>\n",
       "    <tr>\n",
       "      <th>1853</th>\n",
       "      <td>0.032614</td>\n",
       "    </tr>\n",
       "    <tr>\n",
       "      <th>1854</th>\n",
       "      <td>0.033049</td>\n",
       "    </tr>\n",
       "    <tr>\n",
       "      <th>...</th>\n",
       "      <td>...</td>\n",
       "    </tr>\n",
       "    <tr>\n",
       "      <th>2010</th>\n",
       "      <td>0.357019</td>\n",
       "    </tr>\n",
       "    <tr>\n",
       "      <th>2011</th>\n",
       "      <td>0.360551</td>\n",
       "    </tr>\n",
       "    <tr>\n",
       "      <th>2012</th>\n",
       "      <td>0.366511</td>\n",
       "    </tr>\n",
       "    <tr>\n",
       "      <th>2013</th>\n",
       "      <td>0.369772</td>\n",
       "    </tr>\n",
       "    <tr>\n",
       "      <th>2014</th>\n",
       "      <td>0.371205</td>\n",
       "    </tr>\n",
       "  </tbody>\n",
       "</table>\n",
       "<p>165 rows × 1 columns</p>\n",
       "</div>"
      ],
      "text/plain": [
       "      global_total\n",
       "year              \n",
       "1850      0.031306\n",
       "1851      0.031742\n",
       "1852      0.032178\n",
       "1853      0.032614\n",
       "1854      0.033049\n",
       "...            ...\n",
       "2010      0.357019\n",
       "2011      0.360551\n",
       "2012      0.366511\n",
       "2013      0.369772\n",
       "2014      0.371205\n",
       "\n",
       "[165 rows x 1 columns]"
      ]
     },
     "execution_count": 13,
     "metadata": {},
     "output_type": "execute_result"
    }
   ],
   "source": [
    "all_files = glob(input_path+'/CH4-em-anthro_input4MIPs_emissions_CMIP_CEDS-*.csv')\n",
    "ch4=pd.concat((pd.read_csv(f, index_col=['year', 'month', 'sector']).rename(columns={'value': 'global_total'}) for f in all_files)) \n",
    "# ch4.groupby(level=['year']).sum().plot(marker='x')\n",
    "# ch4.groupby(level=['year']).sum().reindex(range(1850, 2014)).interpolate('linear').plot(marker='x')\n",
    "# Fill in the data up to 1970\n",
    "ch4 = ch4.groupby(level=['year']).sum().reindex(range(1850, 2015)).interpolate('linear') / 1e6\n",
    "# Note the AIR component for methane is zero over the historical period\n",
    "ch4"
   ]
  },
  {
   "cell_type": "code",
   "execution_count": 14,
   "metadata": {},
   "outputs": [
    {
     "name": "stderr",
     "output_type": "stream",
     "text": [
      "/home/users/dwatsonparris/miniconda3/envs/xarray/lib/python3.9/site-packages/xesmf/frontend.py:522: FutureWarning: ``output_sizes`` should be given in the ``dask_gufunc_kwargs`` parameter. It will be removed as direct parameter in a future version.\n",
      "  dr_out = xr.apply_ufunc(\n",
      "/home/users/dwatsonparris/miniconda3/envs/xarray/lib/python3.9/site-packages/xesmf/frontend.py:522: FutureWarning: ``output_sizes`` should be given in the ``dask_gufunc_kwargs`` parameter. It will be removed as direct parameter in a future version.\n",
      "  dr_out = xr.apply_ufunc(\n"
     ]
    },
    {
     "name": "stdout",
     "output_type": "stream",
     "text": [
      "<xarray.DataArray 'CO2' (year: 500)>\n",
      "dask.array<sub, shape=(500,), dtype=float32, chunksize=(1,), chunktype=numpy.ndarray>\n",
      "Coordinates:\n",
      "  * year     (year) int64 1 2 3 4 5 6 7 8 9 ... 493 494 495 496 497 498 499 500\n",
      "<xarray.DataArray 'BC' (year: 500)>\n",
      "dask.array<full, shape=(500,), dtype=float32, chunksize=(1,), chunktype=numpy.ndarray>\n",
      "Coordinates:\n",
      "  * year     (year) int64 1 2 3 4 5 6 7 8 9 ... 493 494 495 496 497 498 499 500\n",
      "<xarray.DataArray 'CH4' (year: 500)>\n",
      "dask.array<full, shape=(500,), dtype=float32, chunksize=(1,), chunktype=numpy.ndarray>\n",
      "Coordinates:\n",
      "  * year     (year) int64 1 2 3 4 5 6 7 8 9 ... 493 494 495 496 497 498 499 500\n",
      "<xarray.Dataset>\n",
      "Dimensions:    (year: 165, longitude: 144, latitude: 96)\n",
      "Coordinates:\n",
      "  * year       (year) int64 1850 1851 1852 1853 1854 ... 2011 2012 2013 2014\n",
      "  * longitude  (longitude) float64 0.0 2.5 5.0 7.5 ... 350.0 352.5 355.0 357.5\n",
      "  * latitude   (latitude) float64 -90.0 -88.11 -86.21 ... 86.21 88.11 90.0\n",
      "Data variables:\n",
      "    CO2        (year) float64 0.1883 0.3772 0.5738 ... 1.465e+03 1.5e+03\n",
      "    SO2        (year, latitude, longitude) float64 dask.array<chunksize=(1, 96, 144), meta=np.ndarray>\n",
      "    CH4        (year) float64 0.03131 0.03174 0.03218 ... 0.3665 0.3698 0.3712\n",
      "    BC         (year, latitude, longitude) float64 dask.array<chunksize=(1, 96, 144), meta=np.ndarray>\n"
     ]
    }
   ],
   "source": [
    "# historical\n",
    "\n",
    "hist_co2_ts = xr.DataArray(co2_tot.cumsum()['global_total'], name='CO2')\n",
    "hist_so2_ts = regridder(xr.open_mfdataset(input_path+'/SO2-em-anthro_input4MIPs_emissions_CMIP_CEDS-*.nc')['SO2_em_anthro'].sum('sector').groupby('time.year').mean().sel(year=slice(1850, None)).rename('SO2'))\n",
    "hist_ch4_ts = xr.DataArray(ch4['global_total'], name='CH4')\n",
    "hist_bc_ts = regridder(xr.open_mfdataset(input_path+'/BC-em-anthro_input4MIPs_emissions_CMIP_CEDS-*.nc')['BC_em_anthro'].sum('sector').groupby('time.year').mean().sel(year=slice(1850, None)).rename('BC'))\n",
    "\n",
    "print(co2_ts)\n",
    "print(bc_ts)\n",
    "print(ch4_ts)\n",
    "ds = xr.merge([hist_co2_ts, hist_so2_ts, hist_ch4_ts, hist_bc_ts], fill_value=0.) # Set a fill value to set the methane to zero before 1970..\n",
    "# Fix some metadata to help iris\n",
    "ds.latitude.attrs['units'] = 'degrees'    \n",
    "print(ds)\n",
    "ds.rename({'year': 'time'}).to_netcdf('inputs_historical.nc')"
   ]
  },
  {
   "cell_type": "code",
   "execution_count": 15,
   "metadata": {},
   "outputs": [
    {
     "name": "stdout",
     "output_type": "stream",
     "text": [
      "<xarray.Dataset>\n",
      "Dimensions:  (year: 665)\n",
      "Coordinates:\n",
      "  * year     (year) int64 1 2 3 4 5 6 7 8 ... 2008 2009 2010 2011 2012 2013 2014\n",
      "Data variables:\n",
      "    CO2      (year) float64 nan nan nan nan ... 1.429e+03 1.465e+03 1.5e+03\n",
      "    CH4      (year) float64 nan nan nan nan nan ... 0.3606 0.3665 0.3698 0.3712\n",
      "    BC       (year) float32 dask.array<chunksize=(1,), meta=np.ndarray>\n",
      "    SO2      (year) float32 dask.array<chunksize=(1,), meta=np.ndarray>\n",
      "<xarray.Dataset>\n",
      "Dimensions:    (year: 665, longitude: 144, latitude: 96)\n",
      "Coordinates:\n",
      "  * year       (year) int64 1 2 3 4 5 6 7 ... 2008 2009 2010 2011 2012 2013 2014\n",
      "  * longitude  (longitude) float64 0.0 2.5 5.0 7.5 ... 350.0 352.5 355.0 357.5\n",
      "  * latitude   (latitude) float64 -90.0 -88.11 -86.21 ... 86.21 88.11 90.0\n",
      "Data variables:\n",
      "    CO4        (year) float32 dask.array<chunksize=(1,), meta=np.ndarray>\n",
      "    CH4        (year) float32 dask.array<chunksize=(1,), meta=np.ndarray>\n",
      "    BC         (year, latitude, longitude) float64 dask.array<chunksize=(501, 96, 144), meta=np.ndarray>\n",
      "    SO2        (year, latitude, longitude) float64 dask.array<chunksize=(501, 96, 144), meta=np.ndarray>\n"
     ]
    }
   ],
   "source": [
    "# Deal with DAMIP experiments\n",
    "'hist-GHG', 'hist-aer', 'hist-nat', 'hist-piAer', 'hist-piNTCF'\n",
    "\n",
    "# hist-GHG\n",
    "# Time varying global annual mean concentrations for CO2 and other long-lived greenhouse-gases \n",
    "# https://view.es-doc.org/?renderMethod=name&project=cmip6&type=cim.2.designing.NumericalExperiment&client=esdoc-url-rewrite&name=hist-ghg\n",
    "\n",
    "ds = xr.merge([hist_co2_ts, \n",
    "               hist_ch4_ts, \n",
    "               xr.zeros_like(co2_ts).rename('BC'),\n",
    "               xr.zeros_like(co2_ts).rename('SO2'),\n",
    "              ])\n",
    "print(ds)\n",
    "ds.rename({'year': 'time'}).to_netcdf('inputs_hist-GHG.nc')\n",
    "\n",
    "# hist-aer\n",
    "# forced by changes in anthropogenic aerosol forcing only \n",
    "# https://view.es-doc.org/?renderMethod=name&project=cmip6&type=cim.2.designing.NumericalExperiment&client=esdoc-url-rewrite&name=hist-aer\n",
    "\n",
    "ds = xr.merge([xr.zeros_like(co2_ts).rename('CO4'), \n",
    "               xr.zeros_like(co2_ts).rename('CH4'), \n",
    "               hist_bc_ts,\n",
    "               hist_so2_ts,\n",
    "              ])\n",
    "# Fix some metadata to help iris\n",
    "ds.latitude.attrs['units'] = 'degrees'    \n",
    "print(ds)\n",
    "ds.rename({'year': 'time'}).to_netcdf('inputs_hist-aer.nc')\n",
    "\n"
   ]
  },
  {
   "cell_type": "code",
   "execution_count": 16,
   "metadata": {},
   "outputs": [
    {
     "name": "stdout",
     "output_type": "stream",
     "text": [
      "ssp126\n"
     ]
    },
    {
     "name": "stderr",
     "output_type": "stream",
     "text": [
      "/home/users/dwatsonparris/miniconda3/envs/xarray/lib/python3.9/site-packages/xesmf/frontend.py:522: FutureWarning: ``output_sizes`` should be given in the ``dask_gufunc_kwargs`` parameter. It will be removed as direct parameter in a future version.\n",
      "  dr_out = xr.apply_ufunc(\n",
      "/home/users/dwatsonparris/miniconda3/envs/xarray/lib/python3.9/site-packages/xesmf/frontend.py:522: FutureWarning: ``output_sizes`` should be given in the ``dask_gufunc_kwargs`` parameter. It will be removed as direct parameter in a future version.\n",
      "  dr_out = xr.apply_ufunc(\n"
     ]
    },
    {
     "name": "stdout",
     "output_type": "stream",
     "text": [
      "<xarray.Dataset>\n",
      "Dimensions:    (year: 86, longitude: 144, latitude: 96)\n",
      "Coordinates:\n",
      "  * longitude  (longitude) float64 0.0 2.5 5.0 7.5 ... 350.0 352.5 355.0 357.5\n",
      "  * latitude   (latitude) float64 -90.0 -88.11 -86.21 ... 86.21 88.11 90.0\n",
      "  * year       (year) int64 2015 2016 2017 2018 2019 ... 2097 2098 2099 2100\n",
      "Data variables:\n",
      "    CO2        (year) float64 1.536e+03 1.543e+03 ... 1.662e+03 1.661e+03\n",
      "    SO2        (year, latitude, longitude) float64 dask.array<chunksize=(86, 96, 144), meta=np.ndarray>\n",
      "    CH4        (year) float64 0.3737 0.3657 0.3576 ... 0.115 0.1143 0.1136\n",
      "    BC         (year, latitude, longitude) float64 dask.array<chunksize=(86, 96, 144), meta=np.ndarray>\n",
      "ssp245\n"
     ]
    },
    {
     "name": "stderr",
     "output_type": "stream",
     "text": [
      "/home/users/dwatsonparris/miniconda3/envs/xarray/lib/python3.9/site-packages/xesmf/frontend.py:522: FutureWarning: ``output_sizes`` should be given in the ``dask_gufunc_kwargs`` parameter. It will be removed as direct parameter in a future version.\n",
      "  dr_out = xr.apply_ufunc(\n",
      "/home/users/dwatsonparris/miniconda3/envs/xarray/lib/python3.9/site-packages/xesmf/frontend.py:522: FutureWarning: ``output_sizes`` should be given in the ``dask_gufunc_kwargs`` parameter. It will be removed as direct parameter in a future version.\n",
      "  dr_out = xr.apply_ufunc(\n"
     ]
    },
    {
     "name": "stdout",
     "output_type": "stream",
     "text": [
      "<xarray.Dataset>\n",
      "Dimensions:    (year: 86, longitude: 144, latitude: 96)\n",
      "Coordinates:\n",
      "  * longitude  (longitude) float64 0.0 2.5 5.0 7.5 ... 350.0 352.5 355.0 357.5\n",
      "  * latitude   (latitude) float64 -90.0 -88.11 -86.21 ... 86.21 88.11 90.0\n",
      "  * year       (year) int64 2015 2016 2017 2018 2019 ... 2097 2098 2099 2100\n",
      "Data variables:\n",
      "    CO2        (year) float64 1.536e+03 1.544e+03 ... 1.842e+03 1.844e+03\n",
      "    SO2        (year, latitude, longitude) float64 dask.array<chunksize=(86, 96, 144), meta=np.ndarray>\n",
      "    CH4        (year) float64 0.3737 0.3737 0.3737 ... 0.281 0.2807 0.2803\n",
      "    BC         (year, latitude, longitude) float64 dask.array<chunksize=(86, 96, 144), meta=np.ndarray>\n",
      "ssp370\n"
     ]
    },
    {
     "name": "stderr",
     "output_type": "stream",
     "text": [
      "/home/users/dwatsonparris/miniconda3/envs/xarray/lib/python3.9/site-packages/xesmf/frontend.py:522: FutureWarning: ``output_sizes`` should be given in the ``dask_gufunc_kwargs`` parameter. It will be removed as direct parameter in a future version.\n",
      "  dr_out = xr.apply_ufunc(\n",
      "/home/users/dwatsonparris/miniconda3/envs/xarray/lib/python3.9/site-packages/xesmf/frontend.py:522: FutureWarning: ``output_sizes`` should be given in the ``dask_gufunc_kwargs`` parameter. It will be removed as direct parameter in a future version.\n",
      "  dr_out = xr.apply_ufunc(\n"
     ]
    },
    {
     "name": "stdout",
     "output_type": "stream",
     "text": [
      "<xarray.Dataset>\n",
      "Dimensions:    (year: 86, longitude: 144, latitude: 96)\n",
      "Coordinates:\n",
      "  * longitude  (longitude) float64 0.0 2.5 5.0 7.5 ... 350.0 352.5 355.0 357.5\n",
      "  * latitude   (latitude) float64 -90.0 -88.11 -86.21 ... 86.21 88.11 90.0\n",
      "  * year       (year) int64 2015 2016 2017 2018 2019 ... 2097 2098 2099 2100\n",
      "Data variables:\n",
      "    CO2        (year) float64 1.536e+03 1.544e+03 ... 2.09e+03 2.098e+03\n",
      "    SO2        (year, latitude, longitude) float64 dask.array<chunksize=(86, 96, 144), meta=np.ndarray>\n",
      "    CH4        (year) float64 0.3737 0.3796 0.3855 ... 0.7414 0.7455 0.7496\n",
      "    BC         (year, latitude, longitude) float64 dask.array<chunksize=(86, 96, 144), meta=np.ndarray>\n",
      "ssp370-lowNTCF\n"
     ]
    },
    {
     "name": "stderr",
     "output_type": "stream",
     "text": [
      "/home/users/dwatsonparris/miniconda3/envs/xarray/lib/python3.9/site-packages/xesmf/frontend.py:522: FutureWarning: ``output_sizes`` should be given in the ``dask_gufunc_kwargs`` parameter. It will be removed as direct parameter in a future version.\n",
      "  dr_out = xr.apply_ufunc(\n",
      "/home/users/dwatsonparris/miniconda3/envs/xarray/lib/python3.9/site-packages/xesmf/frontend.py:522: FutureWarning: ``output_sizes`` should be given in the ``dask_gufunc_kwargs`` parameter. It will be removed as direct parameter in a future version.\n",
      "  dr_out = xr.apply_ufunc(\n"
     ]
    },
    {
     "name": "stdout",
     "output_type": "stream",
     "text": [
      "<xarray.Dataset>\n",
      "Dimensions:    (year: 86, longitude: 144, latitude: 96)\n",
      "Coordinates:\n",
      "  * longitude  (longitude) float64 0.0 2.5 5.0 7.5 ... 350.0 352.5 355.0 357.5\n",
      "  * latitude   (latitude) float64 -90.0 -88.11 -86.21 ... 86.21 88.11 90.0\n",
      "  * year       (year) int64 2015 2016 2017 2018 2019 ... 2097 2098 2099 2100\n",
      "Data variables:\n",
      "    CO2        (year) float64 1.536e+03 1.544e+03 ... 2.105e+03 2.113e+03\n",
      "    SO2        (year, latitude, longitude) float64 dask.array<chunksize=(86, 96, 144), meta=np.ndarray>\n",
      "    CH4        (year) float64 0.3737 0.3766 0.3795 ... 0.2075 0.2086 0.2097\n",
      "    BC         (year, latitude, longitude) float64 dask.array<chunksize=(86, 96, 144), meta=np.ndarray>\n",
      "ssp585\n"
     ]
    },
    {
     "name": "stderr",
     "output_type": "stream",
     "text": [
      "/home/users/dwatsonparris/miniconda3/envs/xarray/lib/python3.9/site-packages/xesmf/frontend.py:522: FutureWarning: ``output_sizes`` should be given in the ``dask_gufunc_kwargs`` parameter. It will be removed as direct parameter in a future version.\n",
      "  dr_out = xr.apply_ufunc(\n",
      "/home/users/dwatsonparris/miniconda3/envs/xarray/lib/python3.9/site-packages/xesmf/frontend.py:522: FutureWarning: ``output_sizes`` should be given in the ``dask_gufunc_kwargs`` parameter. It will be removed as direct parameter in a future version.\n",
      "  dr_out = xr.apply_ufunc(\n"
     ]
    },
    {
     "name": "stdout",
     "output_type": "stream",
     "text": [
      "<xarray.Dataset>\n",
      "Dimensions:    (year: 86, longitude: 144, latitude: 96)\n",
      "Coordinates:\n",
      "  * longitude  (longitude) float64 0.0 2.5 5.0 7.5 ... 350.0 352.5 355.0 357.5\n",
      "  * latitude   (latitude) float64 -90.0 -88.11 -86.21 ... 86.21 88.11 90.0\n",
      "  * year       (year) int64 2015 2016 2017 2018 2019 ... 2097 2098 2099 2100\n",
      "Data variables:\n",
      "    CO2        (year) float64 1.536e+03 1.544e+03 ... 2.366e+03 2.379e+03\n",
      "    SO2        (year, latitude, longitude) float64 dask.array<chunksize=(86, 96, 144), meta=np.ndarray>\n",
      "    CH4        (year) float64 0.3737 0.3755 0.3773 ... 0.4715 0.4684 0.4653\n",
      "    BC         (year, latitude, longitude) float64 dask.array<chunksize=(86, 96, 144), meta=np.ndarray>\n"
     ]
    },
    {
     "data": {
      "text/plain": [
       "<matplotlib.legend.Legend at 0x7f92faf6ec10>"
      ]
     },
     "execution_count": 16,
     "metadata": {},
     "output_type": "execute_result"
    },
    {
     "data": {
      "image/png": "[encoded data removed]",
      "text/plain": [
       "<Figure size 432x288 with 1 Axes>"
      ]
     },
     "metadata": {
      "needs_background": "light"
     },
     "output_type": "display_data"
    }
   ],
   "source": [
    "\n",
    "for exp in experiments:\n",
    "    print(exp)\n",
    "    \n",
    "    co2_files = glob(path_f_csv.format(species=\"CO2\", scenario=exp))\n",
    "    co2=pd.concat((pd.read_csv(f, index_col=['year', 'month', 'sector']) for f in co2_files)).groupby(level=['year']).sum() / 1e6\n",
    "    # Get the *cumulative* CO2 mass in atmosphere\n",
    "    co2_ts = xr.DataArray(co2.cumsum()['global_total'], name='CO2') + hist_co2_ts[-1]  # Be sure to add the current total in 2015\n",
    "\n",
    "\n",
    "    so2_f = path_f.format(species=\"SO2\", scenario=exp)\n",
    "    so2_da = xr.open_mfdataset(so2_f, combine='by_coords')['SO2_em_anthro']\n",
    "    # Get a the current SO2 emissions\n",
    "    so2_ts = regridder(so2_da.sum('sector').groupby('time.year').mean())\n",
    "    \n",
    "    ch4_files = glob(path_f_csv.format(species=\"CH4\", scenario=exp))\n",
    "    ch4=pd.concat((pd.read_csv(f, index_col=['year', 'month', 'sector']) for f in ch4_files)).groupby(level=['year']).sum() / 1e3 # The SSP data is in Mt \n",
    "    # Get the current CH4 emissions\n",
    "    ch4_ts = xr.DataArray(ch4['value'], name='CH4')\n",
    "    \n",
    "    bc_f = path_f.format(species=\"BC\", scenario=exp, chunks=None)\n",
    "    # Get a the current BC emissions\n",
    "    bc_da = xr.open_mfdataset(bc_f, combine='by_coords')['BC_em_anthro']\n",
    "    bc_ts = regridder(bc_da.sum('sector').groupby('time.year').mean())\n",
    "    \n",
    "    # These come in monthly means every 5 years, so take the annual mean then interpolate to every year\n",
    "    years = list(range(2015, 2101))\n",
    "\n",
    "    ds = xr.merge([co2_ts.rename('CO2'), so2_ts.rename('SO2'), ch4_ts.rename('CH4'), bc_ts.rename('BC')]).interp(year=years, method='linear')\n",
    "    ds['CH4'].plot(label=exp)\n",
    "\n",
    "    # Fix some metadata to help iris\n",
    "    ds.latitude.attrs['units'] = 'degrees'    \n",
    "    print(ds)\n",
    "    ds.rename({'year': 'time'}).to_netcdf(f\"inputs_{exp}.nc\")\n",
    "    \n",
    "plt.legend()"
   ]
  },
  {
   "cell_type": "markdown",
   "metadata": {},
   "source": [
    "# Pull down the timeslice ERF values in case they're useful"
   ]
  },
  {
   "cell_type": "code",
   "execution_count": 17,
   "metadata": {},
   "outputs": [
    {
     "name": "stdout",
     "output_type": "stream",
     "text": [
      "           CO2    nonCO2       ANT       GHG       AER       NAT       TOT\n",
      "year                                                                      \n",
      "1850  0.000000 -0.115205 -0.466971  0.013559  0.071987  0.351767 -0.115205\n",
      "1851  0.002562  0.182755 -0.009927 -0.174621  0.349671  0.195244  0.185317\n",
      "1852  0.005370  0.115408  0.197967 -0.026271 -0.084874 -0.077189  0.120778\n",
      "1853  0.007910  0.531864  0.199855  0.037472  0.307258  0.339919  0.539774\n",
      "1854  0.010105 -0.048962  0.177848  0.207066 -0.019046 -0.216705 -0.038857\n",
      "...        ...       ...       ...       ...       ...       ...       ...\n",
      "2010  1.721738  0.122902  1.836964  2.537813 -1.144962  0.007677  1.844641\n",
      "2011  1.753638  0.057431  1.582009  2.691273 -1.241895  0.229060  1.811069\n",
      "2012  1.783175  0.188361  1.775948  2.800217 -1.457257  0.195588  1.971536\n",
      "2013  1.821588  0.931987  2.390262  2.627953 -1.246999  0.363312  2.753575\n",
      "2014  1.847275  0.372674  2.202251  2.627547 -1.429633  0.017698  2.219949\n",
      "\n",
      "[165 rows x 7 columns]\n"
     ]
    }
   ],
   "source": [
    "erf_df = pd.read_csv('https://raw.githubusercontent.com/chrisroadmap/aerosol-history/main/data_input/RFMIP-ERF-tier2.csv', index_col=0)\n",
    "noresm_erf_df = erf_df.loc[:2014, erf_df.columns.str.startswith('NorESM2-LM')]\n",
    "noresm_erf_df.columns = noresm_erf_df.columns.str.replace(\"NorESM2-LM \", \"\")\n",
    "print(noresm_erf_df)\n",
    "noresm_erf_df.to_csv('inputs_NorESM2_ERF.csv')"
   ]
  },
  {
   "cell_type": "code",
   "execution_count": 18,
   "metadata": {},
   "outputs": [],
   "source": [
    "# These might also be useful: https://github.com/njleach/GIR/tree/master/GIR/Parameter_Sets"
   ]
  },
  {
   "cell_type": "markdown",
   "metadata": {},
   "source": [
    "# Merge ensemble members"
   ]
  },
  {
   "cell_type": "code",
   "execution_count": 20,
   "metadata": {},
   "outputs": [
    {
     "name": "stdout",
     "output_type": "stream",
     "text": [
      "<xarray.Dataset>\n",
      "Dimensions:                    (lat: 96, lon: 144, time: 150, member: 1)\n",
      "Coordinates:\n",
      "  * lat                        (lat) float64 -90.0 -88.11 -86.21 ... 88.11 90.0\n",
      "  * lon                        (lon) float64 0.0 2.5 5.0 ... 352.5 355.0 357.5\n",
      "  * time                       (time) int64 1 2 3 4 5 6 ... 146 147 148 149 150\n",
      "    quantile                   float64 0.9\n",
      "  * member                     (member) int64 1\n",
      "Data variables:\n",
      "    diurnal_temperature_range  (member, time, lat, lon) float32 -2.403 ... -0...\n",
      "    tas                        (member, time, lat, lon) float32 -0.075 ... 11.5\n",
      "    pr                         (member, time, lat, lon) float32 -3.601e-07 .....\n",
      "    pr90                       (member, time, lat, lon) float64 -9.261e-07 .....\n",
      "<xarray.Dataset>\n",
      "Dimensions:                    (lat: 96, lon: 144, time: 487, member: 1)\n",
      "Coordinates:\n",
      "  * lat                        (lat) float64 -90.0 -88.11 -86.21 ... 88.11 90.0\n",
      "  * lon                        (lon) float64 0.0 2.5 5.0 ... 352.5 355.0 357.5\n",
      "  * time                       (time) int64 1 2 3 4 5 6 ... 496 497 498 499 500\n",
      "    quantile                   float64 0.9\n",
      "  * member                     (member) int64 1\n",
      "Data variables:\n",
      "    diurnal_temperature_range  (member, time, lat, lon) float32 nan nan ... nan\n",
      "    tas                        (member, time, lat, lon) float32 nan nan ... nan\n",
      "    pr                         (member, time, lat, lon) float32 nan nan ... nan\n",
      "    pr90                       (member, time, lat, lon) float64 nan nan ... nan\n",
      "<xarray.Dataset>\n",
      "Dimensions:                    (time: 165, lat: 96, lon: 144, member: 3)\n",
      "Coordinates:\n",
      "  * time                       (time) int64 1850 1851 1852 ... 2012 2013 2014\n",
      "  * lat                        (lat) float64 -90.0 -88.11 -86.21 ... 88.11 90.0\n",
      "  * lon                        (lon) float64 0.0 2.5 5.0 ... 352.5 355.0 357.5\n",
      "    quantile                   float64 0.9\n",
      "  * member                     (member) int64 1 2 3\n",
      "Data variables:\n",
      "    diurnal_temperature_range  (member, time, lat, lon) float32 nan ... 0.03696\n",
      "    tas                        (member, time, lat, lon) float32 0.7882 ... 2.579\n",
      "    pr                         (member, time, lat, lon) float32 6.782e-07 ......\n",
      "    pr90                       (member, time, lat, lon) float64 1.159e-06 ......\n",
      "<xarray.Dataset>\n",
      "Dimensions:                    (lat: 96, lon: 144, time: 501, member: 1)\n",
      "Coordinates:\n",
      "  * lat                        (lat) float64 -90.0 -88.11 -86.21 ... 88.11 90.0\n",
      "  * lon                        (lon) float64 0.0 2.5 5.0 ... 352.5 355.0 357.5\n",
      "  * time                       (time) int64 1600 1601 1602 ... 2098 2099 2100\n",
      "    quantile                   float64 ...\n",
      "  * member                     (member) int64 1\n",
      "Data variables:\n",
      "    diurnal_temperature_range  (member, time, lat, lon) float32 0.0 ... 3.077\n",
      "    tas                        (member, time, lat, lon) float32 226.7 ... 257.6\n",
      "    pr                         (member, time, lat, lon) float32 1.897e-06 ......\n",
      "    pr90                       (member, time, lat, lon) float64 5.14e-06 ... ...\n",
      "<xarray.Dataset>\n",
      "Dimensions:                    (lat: 96, lon: 144, time: 171, member: 3)\n",
      "Coordinates:\n",
      "  * lat                        (lat) float64 -90.0 -88.11 -86.21 ... 88.11 90.0\n",
      "  * lon                        (lon) float64 0.0 2.5 5.0 ... 352.5 355.0 357.5\n",
      "  * time                       (time) int64 1850 1851 1852 ... 2018 2019 2020\n",
      "    quantile                   float64 0.9\n",
      "  * member                     (member) int64 1 2 3\n",
      "Data variables:\n",
      "    diurnal_temperature_range  (member, time, lat, lon) float32 0.6834 ... 0....\n",
      "    tas                        (member, time, lat, lon) float32 0.1181 ... 3.819\n",
      "    pr                         (member, time, lat, lon) float32 -1.836e-07 .....\n",
      "    pr90                       (member, time, lat, lon) float64 -3.295e-07 .....\n",
      "<xarray.Dataset>\n",
      "Dimensions:                    (lat: 96, lon: 144, time: 171, member: 3)\n",
      "Coordinates:\n",
      "  * lat                        (lat) float64 -90.0 -88.11 -86.21 ... 88.11 90.0\n",
      "  * lon                        (lon) float64 0.0 2.5 5.0 ... 352.5 355.0 357.5\n",
      "  * time                       (time) int64 1850 1851 1852 ... 2018 2019 2020\n",
      "    quantile                   float64 0.9\n",
      "  * member                     (member) int64 1 2 3\n",
      "Data variables:\n",
      "    diurnal_temperature_range  (member, time, lat, lon) float32 0.6277 ... 0....\n",
      "    tas                        (member, time, lat, lon) float32 0.2747 ... -0...\n",
      "    pr                         (member, time, lat, lon) float32 1.063e-07 ......\n",
      "    pr90                       (member, time, lat, lon) float64 -4.851e-08 .....\n",
      "<xarray.Dataset>\n",
      "Dimensions:                    (lat: 96, lon: 144, time: 86, member: 1)\n",
      "Coordinates:\n",
      "  * lat                        (lat) float64 -90.0 -88.11 -86.21 ... 88.11 90.0\n",
      "  * lon                        (lon) float64 0.0 2.5 5.0 ... 352.5 355.0 357.5\n",
      "  * time                       (time) int64 2015 2016 2017 ... 2098 2099 2100\n",
      "    quantile                   float64 0.9\n",
      "  * member                     (member) int64 1\n",
      "Data variables:\n",
      "    diurnal_temperature_range  (member, time, lat, lon) float32 0.5125 ... 0....\n",
      "    tas                        (member, time, lat, lon) float32 0.7471 ... 3.764\n",
      "    pr                         (member, time, lat, lon) float32 4.088e-07 ......\n",
      "    pr90                       (member, time, lat, lon) float64 8.746e-07 ......\n",
      "<xarray.Dataset>\n",
      "Dimensions:                    (lat: 96, lon: 144, time: 86, member: 3)\n",
      "Coordinates:\n",
      "  * lat                        (lat) float64 -90.0 -88.11 -86.21 ... 88.11 90.0\n",
      "  * lon                        (lon) float64 0.0 2.5 5.0 ... 352.5 355.0 357.5\n",
      "  * time                       (time) int64 2015 2016 2017 ... 2098 2099 2100\n",
      "    quantile                   float64 0.9\n",
      "  * member                     (member) int64 1 2 3\n",
      "Data variables:\n",
      "    diurnal_temperature_range  (member, time, lat, lon) float32 0.799 ... 0.0...\n",
      "    tas                        (member, time, lat, lon) float32 1.602 ... 5.606\n",
      "    pr                         (member, time, lat, lon) float32 4.009e-10 ......\n",
      "    pr90                       (member, time, lat, lon) float64 -1.426e-07 .....\n",
      "<xarray.Dataset>\n",
      "Dimensions:                    (time: 86, lat: 96, lon: 144, member: 3)\n",
      "Coordinates:\n",
      "  * time                       (time) int64 2015 2016 2017 ... 2098 2099 2100\n",
      "  * lat                        (lat) float64 -90.0 -88.11 -86.21 ... 88.11 90.0\n",
      "  * lon                        (lon) float64 0.0 2.5 5.0 ... 352.5 355.0 357.5\n",
      "    quantile                   float64 0.9\n",
      "  * member                     (member) int64 1 2 3\n",
      "Data variables:\n",
      "    diurnal_temperature_range  (member, time, lat, lon) float32 0.6738 ... nan\n",
      "    tas                        (member, time, lat, lon) float32 0.9534 ... nan\n",
      "    pr                         (member, time, lat, lon) float32 -2.514e-07 .....\n",
      "    pr90                       (member, time, lat, lon) float64 -1.078e-06 .....\n",
      "<xarray.Dataset>\n",
      "Dimensions:                    (lat: 96, lon: 144, time: 40, member: 3)\n",
      "Coordinates:\n",
      "  * lat                        (lat) float64 -90.0 -88.11 -86.21 ... 88.11 90.0\n",
      "  * lon                        (lon) float64 0.0 2.5 5.0 ... 352.5 355.0 357.5\n",
      "  * time                       (time) int64 2015 2016 2017 ... 2052 2053 2054\n",
      "    quantile                   float64 0.9\n",
      "  * member                     (member) int64 1 2 3\n",
      "Data variables:\n",
      "    diurnal_temperature_range  (member, time, lat, lon) float32 0.6789 ... 0....\n",
      "    tas                        (member, time, lat, lon) float32 0.9742 ... 5.721\n",
      "    pr                         (member, time, lat, lon) float32 -2.452e-07 .....\n",
      "    pr90                       (member, time, lat, lon) float64 -1.078e-06 .....\n",
      "<xarray.Dataset>\n",
      "Dimensions:                    (lat: 96, lon: 144, time: 86, member: 1)\n",
      "Coordinates:\n",
      "  * lat                        (lat) float64 -90.0 -88.11 -86.21 ... 88.11 90.0\n",
      "  * lon                        (lon) float64 0.0 2.5 5.0 ... 352.5 355.0 357.5\n",
      "  * time                       (time) int64 2015 2016 2017 ... 2098 2099 2100\n",
      "    quantile                   float64 0.9\n",
      "  * member                     (member) int64 1\n",
      "Data variables:\n",
      "    diurnal_temperature_range  (member, time, lat, lon) float32 0.2774 ... -0...\n",
      "    tas                        (member, time, lat, lon) float32 0.4037 ... 11.5\n",
      "    pr                         (member, time, lat, lon) float32 -1.942e-07 .....\n",
      "    pr90                       (member, time, lat, lon) float64 -6.175e-07 .....\n"
     ]
    }
   ],
   "source": [
    "experiments = [\n",
    "               '1pctCO2', 'abrupt-4xCO2', 'historical', 'piControl', # CMIP\n",
    "               'hist-GHG', 'hist-aer', # DAMIP\n",
    "               'ssp126', 'ssp245', 'ssp370', 'ssp370-lowNTCF', 'ssp585' #\tScenarioMIP\n",
    "]\n",
    "\n",
    "def preprocess(ds):\n",
    "    \"\"\"\n",
    "    Promote the ensemble member attribute to a coord\n",
    "    \"\"\"\n",
    "    return ds.assign_coords(member=(\"member\", [ds.attrs['source'].split('_')[2]]))\n",
    "\n",
    "# Subtract baseline values\n",
    "baseline = xr.open_dataset(f\"NorESM2-LM_piControl_r1i1p1f1.nc\").mean('year')\n",
    "\n",
    "for exp in experiments:\n",
    "    files=list(glob(f\"NorESM2-LM_{exp}_*\"))\n",
    "    ens_ds = []\n",
    "    for f in files:\n",
    "        ds = xr.open_dataset(f)\n",
    "        ds['member'] = [int(f.split('_')[2][1])]\n",
    "        ds.assign_coords(member=\"member\")\n",
    "        ens_ds.append(ds)\n",
    "    en_ds = xr.concat(ens_ds, dim='member')\n",
    "    if exp != \"piControl\":\n",
    "        en_ds = en_ds - baseline\n",
    "    # Fix some metadata to help iris\n",
    "    en_ds.lat.attrs['units'] = 'degrees'\n",
    "    en_ds = en_ds.rename({'year': 'time'})\n",
    "    print(en_ds)\n",
    "    # For some reason these runs go until 2020\n",
    "    if exp.startswith(\"hist-\"):\n",
    "        en_ds = en_ds.sel(time=slice(None, 2014))\n",
    "    en_ds.to_netcdf(f'outputs_{exp}.nc')"
   ]
  },
  {
   "cell_type": "markdown",
   "metadata": {},
   "source": [
    "# Create the tar-balls"
   ]
  },
  {
   "cell_type": "code",
   "execution_count": 22,
   "metadata": {},
   "outputs": [],
   "source": [
    "import tarfile\n",
    "import os.path\n",
    "\n",
    "def make_tarfile(output_filename, files):\n",
    "    with tarfile.open(output_filename, \"w:gz\") as tar:\n",
    "        for f in files:\n",
    "            tar.add(f)\n",
    "\n",
    "train_val_files = [f\"inputs_{exp}.nc\" for exp in experiments if exp not in [\"ssp245\", \"piControl\"]] + [f\"outputs_{exp}.nc\" for exp in experiments if exp != \"ssp245\"]\n",
    "make_tarfile('train_val.tar.gz', train_val_files)\n",
    "        \n",
    "test_files = [\"inputs_ssp245.nc\", \"outputs_ssp245.nc\"]\n",
    "make_tarfile('test.tar.gz', test_files)"
   ]
  },
  {
   "cell_type": "code",
   "execution_count": null,
   "metadata": {},
   "outputs": [],
   "source": []
  }
 ],
 "metadata": {
  "kernelspec": {
   "display_name": "Python [conda env:xarray]",
   "language": "python",
   "name": "conda-env-xarray-py"
  },
  "language_info": {
   "codemirror_mode": {
    "name": "ipython",
    "version": 3
   },
   "file_extension": ".py",
   "mimetype": "text/x-python",
   "name": "python",
   "nbconvert_exporter": "python",
   "pygments_lexer": "ipython3",
   "version": "3.9.6"
  }
 },
 "nbformat": 4,
 "nbformat_minor": 4
}
