{
 "cells": [
  {
   "cell_type": "code",
   "execution_count": 1,
   "id": "7e516b67-9d63-421e-917f-73ffbeaec3b2",
   "metadata": {},
   "outputs": [],
   "source": [
    "import matplotlib.pyplot as plt\n",
    "import cartopy.crs as ccrs\n",
    "import xarray as xr\n",
    "\n",
    "from glob import glob\n",
    "import seaborn as sns\n",
    "\n",
    "import numpy as np\n",
    "import pandas as pd\n",
    "\n",
    "import warnings\n",
    "\n",
    "from xskillscore import crps_gaussian, rmse"
   ]
  },
  {
   "cell_type": "code",
   "execution_count": 2,
   "id": "979fb076-54cc-48a8-afd8-69faf7701c68",
   "metadata": {},
   "outputs": [],
   "source": [
    "SECONDS_IN_YEAR = 60*60*24*365 #s\n",
    "convert = lambda x: x * SECONDS_IN_YEAR * 1e-12 # kg -> Gt\n",
    "\n",
    "# data_path = \"F:\\\\Local Data\\\\ClimateBench\\\\\"\n",
    "data_path = '/Users/watson-parris/Local Data/ClimateBench/train_val/'\n",
    "\n",
    "\n",
    "# Only future scenarios for now\n",
    "inputs = glob(data_path + \"inputs_s*.nc\")\n",
    "\n",
    "def get_rmse(truth, pred):\n",
    "    return np.sqrt(((truth-pred)**2))\n",
    "\n",
    "def global_mean(ds):\n",
    "    weights = np.cos(np.deg2rad(ds.lat))\n",
    "    return ds.weighted(weights).mean(['lat', 'lon'])\n"
   ]
  },
  {
   "cell_type": "code",
   "execution_count": 4,
   "id": "577ab781-56a9-4956-9924-62f5c83434a9",
   "metadata": {},
   "outputs": [],
   "source": [
    "variables = ['tas', 'diurnal_temperature_range', 'pr', 'pr90']\n",
    "\n",
    "Y = xr.open_dataset(data_path + 'outputs_ssp245.nc').sel(time=slice(2080, 2100))\n",
    "\n",
    "# Convert the precip values to mm/day\n",
    "Y[\"pr\"] *= 86400\n",
    "Y[\"pr90\"] *= 86400\n",
    "\n",
    "gp_predictions = global_mean(xr.merge([{v: xr.open_dataarray(data_path +'/revisions_1/'+ \"climatebench-gp-posterior-mean-{}-test-2019-2100.nc\".format(v))} for v in variables]).sel(time=slice(2080, 2100)))\n",
    "gp_predictions_std = global_mean(xr.merge([{v: xr.open_dataarray(data_path +'/revisions_1/'+ \"climatebench-gp-posterior-std-{}-test-2019-2100.nc\".format(v))} for v in variables]).sel(time=slice(2080, 2100)))"
   ]
  },
  {
   "cell_type": "code",
   "execution_count": 9,
   "id": "9d564406-5128-40fd-ac71-af4f70242e14",
   "metadata": {},
   "outputs": [
    {
     "data": {
      "text/html": [
       "<style type=\"text/css\">\n",
       "</style>\n",
       "<table id=\"T_be069_\">\n",
       "  <thead>\n",
       "    <tr>\n",
       "      <th class=\"blank level0\" >&nbsp;</th>\n",
       "      <th class=\"col_heading level0 col0\" >diurnal_temperature_range</th>\n",
       "      <th class=\"col_heading level0 col1\" >pr</th>\n",
       "      <th class=\"col_heading level0 col2\" >pr90</th>\n",
       "      <th class=\"col_heading level0 col3\" >tas</th>\n",
       "    </tr>\n",
       "  </thead>\n",
       "  <tbody>\n",
       "    <tr>\n",
       "      <th id=\"T_be069_level0_row0\" class=\"row_heading level0 row0\" >Gaussian Process</th>\n",
       "      <td id=\"T_be069_row0_col0\" class=\"data row0 col0\" >0.4765</td>\n",
       "      <td id=\"T_be069_row0_col1\" class=\"data row0 col1\" >0.3601</td>\n",
       "      <td id=\"T_be069_row0_col2\" class=\"data row0 col2\" >1.0753</td>\n",
       "      <td id=\"T_be069_row0_col3\" class=\"data row0 col3\" >1.0029</td>\n",
       "    </tr>\n",
       "  </tbody>\n",
       "</table>\n"
      ],
      "text/plain": [
       "<pandas.io.formats.style.Styler at 0x1426d4040>"
      ]
     },
     "execution_count": 9,
     "metadata": {},
     "output_type": "execute_result"
    }
   ],
   "source": [
    "CRPS = pd.DataFrame({\n",
    "    \"Gaussian Process\": {v: crps_gaussian(Y[v], gp_predictions[v], gp_predictions_std[v]).data for v in variables} \n",
    "})\n",
    "CRPS.T.style.format(\"{:.4f}\")"
   ]
  },
  {
   "cell_type": "code",
   "execution_count": null,
   "id": "0a5ff6d5-6024-476e-b879-415ed02683c7",
   "metadata": {},
   "outputs": [],
   "source": []
  }
 ],
 "metadata": {
  "kernelspec": {
   "display_name": "Python [conda env:climatebench]",
   "language": "python",
   "name": "conda-env-climatebench-py"
  },
  "language_info": {
   "codemirror_mode": {
    "name": "ipython",
    "version": 3
   },
   "file_extension": ".py",
   "mimetype": "text/x-python",
   "name": "python",
   "nbconvert_exporter": "python",
   "pygments_lexer": "ipython3",
   "version": "3.9.6"
  }
 },
 "nbformat": 4,
 "nbformat_minor": 5
}
