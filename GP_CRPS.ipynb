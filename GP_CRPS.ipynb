{
 "cells": [
  {
   "cell_type": "code",
   "execution_count": 2,
   "id": "7e516b67-9d63-421e-917f-73ffbeaec3b2",
   "metadata": {},
   "outputs": [],
   "source": [
    "import warnings\n",
    "import numpy as np\n",
    "import pandas as pd\n",
    "import xarray as xr\n",
    "import seaborn as sns\n",
    "\n",
    "import cartopy.crs as ccrs\n",
    "import matplotlib.pyplot as plt\n",
    "\n",
    "from glob import glob\n",
    "from xskillscore import crps_gaussian, rmse\n",
    "from path_parameters import TRAIN_PATH, TEST_PATH, OUTPUT_PATH"
   ]
  },
  {
   "cell_type": "code",
   "execution_count": 3,
   "id": "8ec63acc",
   "metadata": {},
   "outputs": [],
   "source": [
    "data_path = TRAIN_PATH\n",
    "test_path = TEST_PATH\n",
    "output_path = OUTPUT_PATH"
   ]
  },
  {
   "cell_type": "code",
   "execution_count": 2,
   "id": "979fb076-54cc-48a8-afd8-69faf7701c68",
   "metadata": {},
   "outputs": [],
   "source": [
    "SECONDS_IN_YEAR = 60*60*24*365 #s\n",
    "convert = lambda x: x * SECONDS_IN_YEAR * 1e-12 # kg -> Gt\n",
    "\n",
    "# Only future scenarios for now\n",
    "# TODO also test data here?\n",
    "inputs = glob(data_path + \"inputs_s*.nc\")\n",
    "\n",
    "def get_rmse(truth, pred):\n",
    "    return np.sqrt(((truth-pred)**2))\n",
    "\n",
    "def global_mean(ds):\n",
    "    weights = np.cos(np.deg2rad(ds.latitude))\n",
    "    return ds.weighted(weights).mean(['latitude', 'longitude'])\n"
   ]
  },
  {
   "cell_type": "code",
   "execution_count": 8,
   "id": "577ab781-56a9-4956-9924-62f5c83434a9",
   "metadata": {},
   "outputs": [],
   "source": [
    "variables = ['tas', 'diurnal_temperature_range', 'pr', 'pr90']\n",
    "\n",
    "Y = xr.open_dataset(test_path + 'outputs_ssp245.nc').sel(time=slice(2050, 2100))\n",
    "\n",
    "# Convert the precip values to mm/day\n",
    "Y[\"pr\"] *= 86400\n",
    "Y[\"pr90\"] *= 86400\n",
    "\n",
    "gp_predictions = xr.merge([{v: xr.open_dataarray(output_path + \"outputs_ssp245_predict_gp_{}.nc\".format(v))} for v in variables]).sel(time=slice(2050, 2100))\n",
    "gp_predictions_std = xr.merge([{v: xr.open_dataarray(output_path + \"outputs_ssp245_predict_gp_{}_std.nc\".format(v))} for v in variables]).sel(time=slice(2050, 2100))"
   ]
  },
  {
   "cell_type": "code",
   "execution_count": 24,
   "id": "9d564406-5128-40fd-ac71-af4f70242e14",
   "metadata": {},
   "outputs": [
    {
     "name": "stdout",
     "output_type": "stream",
     "text": [
      "<xarray.DataArray 'tas' ()>\n",
      "array(0.33017773)\n",
      "Coordinates:\n",
      "    quantile  float64 0.9\n",
      "<xarray.DataArray 'diurnal_temperature_range' ()>\n",
      "array(0.11699254)\n",
      "Coordinates:\n",
      "    quantile  float64 0.9\n",
      "<xarray.DataArray 'pr' ()>\n",
      "array(0.42198426)\n",
      "Coordinates:\n",
      "    quantile  float64 0.9\n",
      "<xarray.DataArray 'pr90' ()>\n",
      "array(1.26591589)\n",
      "Coordinates:\n",
      "    quantile  float64 0.9\n"
     ]
    }
   ],
   "source": [
    "for v in variables:\n",
    "    print(crps_gaussian(Y[v], gp_predictions[v], gp_predictions_std[v], weights=np.cos(np.deg2rad(Y.lat))))"
   ]
  },
  {
   "cell_type": "code",
   "execution_count": null,
   "id": "0a5ff6d5-6024-476e-b879-415ed02683c7",
   "metadata": {},
   "outputs": [],
   "source": []
  }
 ],
 "metadata": {
  "kernelspec": {
   "display_name": "Python 3 (ipykernel)",
   "language": "python",
   "name": "python3"
  },
  "language_info": {
   "codemirror_mode": {
    "name": "ipython",
    "version": 3
   },
   "file_extension": ".py",
   "mimetype": "text/x-python",
   "name": "python",
   "nbconvert_exporter": "python",
   "pygments_lexer": "ipython3",
   "version": "3.7.11"
  }
 },
 "nbformat": 4,
 "nbformat_minor": 5
}
